{
 "cells": [
  {
   "cell_type": "markdown",
   "metadata": {
    "collapsed": true,
    "deletable": true,
    "editable": true
   },
   "source": [
    "# Image Classification\n",
    "In this project, you'll classify images from the [CIFAR-10 dataset](https://www.cs.toronto.edu/~kriz/cifar.html).  The dataset consists of airplanes, dogs, cats, and other objects. You'll preprocess the images, then train a convolutional neural network on all the samples. The images need to be normalized and the labels need to be one-hot encoded.  You'll get to apply what you learned and build a convolutional, max pooling, dropout, and fully connected layers.  At the end, you'll get to see your neural network's predictions on the sample images.\n",
    "## Get the Data\n",
    "Run the following cell to download the [CIFAR-10 dataset for python](https://www.cs.toronto.edu/~kriz/cifar-10-python.tar.gz)."
   ]
  },
  {
   "cell_type": "code",
   "execution_count": 1,
   "metadata": {
    "collapsed": false,
    "deletable": true,
    "editable": true
   },
   "outputs": [
    {
     "name": "stdout",
     "output_type": "stream",
     "text": [
      "All files found!\n"
     ]
    }
   ],
   "source": [
    "\"\"\"\n",
    "DON'T MODIFY ANYTHING IN THIS CELL THAT IS BELOW THIS LINE\n",
    "\"\"\"\n",
    "from urllib.request import urlretrieve\n",
    "from os.path import isfile, isdir\n",
    "from tqdm import tqdm\n",
    "import problem_unittests as tests\n",
    "import tarfile\n",
    "\n",
    "cifar10_dataset_folder_path = 'cifar-10-batches-py'\n",
    "\n",
    "# Use Floyd's cifar-10 dataset if present\n",
    "floyd_cifar10_location = '/input/cifar-10/python.tar.gz'\n",
    "if isfile(floyd_cifar10_location):\n",
    "    tar_gz_path = floyd_cifar10_location\n",
    "else:\n",
    "    tar_gz_path = 'cifar-10-python.tar.gz'\n",
    "    \n",
    "class DLProgress(tqdm):\n",
    "    last_block = 0\n",
    "\n",
    "    def hook(self, block_num=1, block_size=1, total_size=None):\n",
    "        self.total = total_size\n",
    "        self.update((block_num - self.last_block) * block_size)\n",
    "        self.last_block = block_num\n",
    "\n",
    "if not isfile(tar_gz_path):\n",
    "    with DLProgress(unit='B', unit_scale=True, miniters=1, desc='CIFAR-10 Dataset') as pbar:\n",
    "        urlretrieve(\n",
    "            'https://www.cs.toronto.edu/~kriz/cifar-10-python.tar.gz',\n",
    "            tar_gz_path,\n",
    "            pbar.hook)\n",
    "\n",
    "if not isdir(cifar10_dataset_folder_path):\n",
    "    with tarfile.open(tar_gz_path) as tar:\n",
    "        tar.extractall()\n",
    "        tar.close()\n",
    "\n",
    "\n",
    "tests.test_folder_path(cifar10_dataset_folder_path)"
   ]
  },
  {
   "cell_type": "markdown",
   "metadata": {
    "deletable": true,
    "editable": true
   },
   "source": [
    "## Explore the Data\n",
    "The dataset is broken into batches to prevent your machine from running out of memory.  The CIFAR-10 dataset consists of 5 batches, named `data_batch_1`, `data_batch_2`, etc.. Each batch contains the labels and images that are one of the following:\n",
    "* airplane\n",
    "* automobile\n",
    "* bird\n",
    "* cat\n",
    "* deer\n",
    "* dog\n",
    "* frog\n",
    "* horse\n",
    "* ship\n",
    "* truck\n",
    "\n",
    "Understanding a dataset is part of making predictions on the data.  Play around with the code cell below by changing the `batch_id` and `sample_id`. The `batch_id` is the id for a batch (1-5). The `sample_id` is the id for a image and label pair in the batch.\n",
    "\n",
    "Ask yourself \"What are all possible labels?\", \"What is the range of values for the image data?\", \"Are the labels in order or random?\".  Answers to questions like these will help you preprocess the data and end up with better predictions."
   ]
  },
  {
   "cell_type": "code",
   "execution_count": 2,
   "metadata": {
    "collapsed": false,
    "deletable": true,
    "editable": true
   },
   "outputs": [
    {
     "name": "stdout",
     "output_type": "stream",
     "text": [
      "\n",
      "Stats of batch 1:\n",
      "Samples: 10000\n",
      "Label Counts: {0: 1005, 1: 974, 2: 1032, 3: 1016, 4: 999, 5: 937, 6: 1030, 7: 1001, 8: 1025, 9: 981}\n",
      "First 20 Labels: [6, 9, 9, 4, 1, 1, 2, 7, 8, 3, 4, 7, 7, 2, 9, 9, 9, 3, 2, 6]\n",
      "\n",
      "Example of Image 5:\n",
      "Image - Min Value: 0 Max Value: 252\n",
      "Image - Shape: (32, 32, 3)\n",
      "Label - Label Id: 1 Name: automobile\n"
     ]
    },
    {
     "data": {
      "image/png": "[encoded data removed]",
      "text/plain": [
       "<matplotlib.figure.Figure at 0x7fdd652577f0>"
      ]
     },
     "metadata": {
      "image/png": {
       "height": 250,
       "width": 253
      }
     },
     "output_type": "display_data"
    }
   ],
   "source": [
    "%matplotlib inline\n",
    "%config InlineBackend.figure_format = 'retina'\n",
    "\n",
    "import helper\n",
    "import numpy as np\n",
    "\n",
    "# Explore the dataset\n",
    "batch_id = 1\n",
    "sample_id = 5\n",
    "helper.display_stats(cifar10_dataset_folder_path, batch_id, sample_id)"
   ]
  },
  {
   "cell_type": "code",
   "execution_count": 3,
   "metadata": {
    "collapsed": false,
    "deletable": true,
    "editable": true
   },
   "outputs": [
    {
     "name": "stdout",
     "output_type": "stream",
     "text": [
      "\n",
      "Stats of batch 2:\n",
      "Samples: 10000\n",
      "Label Counts: {0: 984, 1: 1007, 2: 1010, 3: 995, 4: 1010, 5: 988, 6: 1008, 7: 1026, 8: 987, 9: 985}\n",
      "First 20 Labels: [1, 6, 6, 8, 8, 3, 4, 6, 0, 6, 0, 3, 6, 6, 5, 4, 8, 3, 2, 6]\n",
      "\n",
      "Example of Image 5:\n",
      "Image - Min Value: 3 Max Value: 219\n",
      "Image - Shape: (32, 32, 3)\n",
      "Label - Label Id: 3 Name: cat\n"
     ]
    },
    {
     "data": {
      "image/png": "[encoded data removed]",
      "text/plain": [
       "<matplotlib.figure.Figure at 0x7fdd680b87f0>"
      ]
     },
     "metadata": {
      "image/png": {
       "height": 250,
       "width": 253
      }
     },
     "output_type": "display_data"
    }
   ],
   "source": [
    "batch_id = 2\n",
    "sample_id = 5\n",
    "helper.display_stats(cifar10_dataset_folder_path, batch_id, sample_id)"
   ]
  },
  {
   "cell_type": "code",
   "execution_count": 4,
   "metadata": {
    "collapsed": false,
    "deletable": true,
    "editable": true
   },
   "outputs": [
    {
     "name": "stdout",
     "output_type": "stream",
     "text": [
      "\n",
      "Stats of batch 3:\n",
      "Samples: 10000\n",
      "Label Counts: {0: 994, 1: 1042, 2: 965, 3: 997, 4: 990, 5: 1029, 6: 978, 7: 1015, 8: 961, 9: 1029}\n",
      "First 20 Labels: [8, 5, 0, 6, 9, 2, 8, 3, 6, 2, 7, 4, 6, 9, 0, 0, 7, 3, 7, 2]\n",
      "\n",
      "Example of Image 1:\n",
      "Image - Min Value: 15 Max Value: 249\n",
      "Image - Shape: (32, 32, 3)\n",
      "Label - Label Id: 5 Name: dog\n"
     ]
    },
    {
     "data": {
      "image/png": "[encoded data removed]",
      "text/plain": [
       "<matplotlib.figure.Figure at 0x7fdd5c082588>"
      ]
     },
     "metadata": {
      "image/png": {
       "height": 250,
       "width": 253
      }
     },
     "output_type": "display_data"
    }
   ],
   "source": [
    "batch_id = 3\n",
    "sample_id = 1\n",
    "helper.display_stats(cifar10_dataset_folder_path, batch_id, sample_id)"
   ]
  },
  {
   "cell_type": "markdown",
   "metadata": {},
   "source": [
    "### Observation\n",
    "\n",
    "It can be seen from the above stats that there are 10 labels, and that in each batches the count of images for each labels are almost the same. The labels are all random, which means that the images are all randomly arranged. "
   ]
  },
  {
   "cell_type": "markdown",
   "metadata": {
    "deletable": true,
    "editable": true
   },
   "source": [
    "## Implement Preprocess Functions\n",
    "### Normalize\n",
    "In the cell below, implement the `normalize` function to take in image data, `x`, and return it as a normalized Numpy array. The values should be in the range of 0 to 1, inclusive.  The return object should be the same shape as `x`."
   ]
  },
  {
   "cell_type": "code",
   "execution_count": 5,
   "metadata": {
    "collapsed": false,
    "deletable": true,
    "editable": true
   },
   "outputs": [
    {
     "name": "stdout",
     "output_type": "stream",
     "text": [
      "Tests Passed\n"
     ]
    }
   ],
   "source": [
    "def normalize(x):\n",
    "    \"\"\"\n",
    "    Normalize a list of sample image data in the range of 0 to 1\n",
    "    : x: List of image data.  The image shape is (32, 32, 3)\n",
    "    : return: Numpy array of normalize data\n",
    "    \"\"\"\n",
    "    # TODO: Implement Function\n",
    "    a= 0.1\n",
    "    b= 0.9\n",
    "    x_min = 0.0\n",
    "    x_max = 255.0\n",
    "    x_norm = (a + ((x-x_min) * (b-a)/(x_max-x_min)))\n",
    "    return x_norm\n",
    "\n",
    "\n",
    "\"\"\"\n",
    "DON'T MODIFY ANYTHING IN THIS CELL THAT IS BELOW THIS LINE\n",
    "\"\"\"\n",
    "tests.test_normalize(normalize)"
   ]
  },
  {
   "cell_type": "markdown",
   "metadata": {
    "deletable": true,
    "editable": true
   },
   "source": [
    "### One-hot encode\n",
    "Just like the previous code cell, you'll be implementing a function for preprocessing.  This time, you'll implement the `one_hot_encode` function. The input, `x`, are a list of labels.  Implement the function to return the list of labels as One-Hot encoded Numpy array.  The possible values for labels are 0 to 9. The one-hot encoding function should return the same encoding for each value between each call to `one_hot_encode`.  Make sure to save the map of encodings outside the function.\n",
    "\n",
    "**Hint:**\n",
    "\n",
    "Look into LabelBinarizer in the preprocessing module of sklearn."
   ]
  },
  {
   "cell_type": "code",
   "execution_count": 6,
   "metadata": {
    "collapsed": false,
    "deletable": true,
    "editable": true
   },
   "outputs": [
    {
     "name": "stdout",
     "output_type": "stream",
     "text": [
      "Tests Passed\n"
     ]
    }
   ],
   "source": [
    "# Using identity matrix instead of LabelBinarizer as this allows \n",
    "# the map of encodings to be created outside the function\n",
    "# as the class lables are only 10, but if we have like for instance as in \n",
    "# ImageNet a better function will have to be used.\n",
    "class10_encoded = np.identity(10, int) \n",
    "\n",
    "def one_hot_encode(x):\n",
    "    \"\"\"\n",
    "    One hot encode a list of sample labels. Return a one-hot encoded vector for each label.\n",
    "    : x: List of sample Labels\n",
    "    : return: Numpy array of one-hot encoded labels\n",
    "    \"\"\"\n",
    "    # TODO: Implement Function\n",
    "    return np.array([class10_encoded[v] for v in x])\n",
    "\n",
    "\n",
    "\"\"\"\n",
    "DON'T MODIFY ANYTHING IN THIS CELL THAT IS BELOW THIS LINE\n",
    "\"\"\"\n",
    "tests.test_one_hot_encode(one_hot_encode)"
   ]
  },
  {
   "cell_type": "markdown",
   "metadata": {
    "deletable": true,
    "editable": true
   },
   "source": [
    "### Randomize Data\n",
    "As you saw from exploring the data above, the order of the samples are randomized.  It doesn't hurt to randomize it again, but you don't need to for this dataset."
   ]
  },
  {
   "cell_type": "markdown",
   "metadata": {
    "deletable": true,
    "editable": true
   },
   "source": [
    "## Preprocess all the data and save it\n",
    "Running the code cell below will preprocess all the CIFAR-10 data and save it to file. The code below also uses 10% of the training data for validation."
   ]
  },
  {
   "cell_type": "code",
   "execution_count": 7,
   "metadata": {
    "collapsed": false,
    "deletable": true,
    "editable": true
   },
   "outputs": [],
   "source": [
    "\"\"\"\n",
    "DON'T MODIFY ANYTHING IN THIS CELL\n",
    "\"\"\"\n",
    "# Preprocess Training, Validation, and Testing Data\n",
    "helper.preprocess_and_save_data(cifar10_dataset_folder_path, normalize, one_hot_encode)"
   ]
  },
  {
   "cell_type": "markdown",
   "metadata": {
    "deletable": true,
    "editable": true
   },
   "source": [
    "# Check Point\n",
    "This is your first checkpoint.  If you ever decide to come back to this notebook or have to restart the notebook, you can start from here.  The preprocessed data has been saved to disk."
   ]
  },
  {
   "cell_type": "code",
   "execution_count": 8,
   "metadata": {
    "collapsed": true,
    "deletable": true,
    "editable": true
   },
   "outputs": [],
   "source": [
    "\"\"\"\n",
    "DON'T MODIFY ANYTHING IN THIS CELL\n",
    "\"\"\"\n",
    "import pickle\n",
    "import problem_unittests as tests\n",
    "import helper\n",
    "\n",
    "# Load the Preprocessed Validation data\n",
    "valid_features, valid_labels = pickle.load(open('preprocess_validation.p', mode='rb'))"
   ]
  },
  {
   "cell_type": "markdown",
   "metadata": {
    "deletable": true,
    "editable": true
   },
   "source": [
    "## Build the network\n",
    "For the neural network, you'll build each layer into a function.  Most of the code you've seen has been outside of functions. To test your code more thoroughly, we require that you put each layer in a function.  This allows us to give you better feedback and test for simple mistakes using our unittests before you submit your project.\n",
    "\n",
    ">**Note:** If you're finding it hard to dedicate enough time for this course each week, we've provided a small shortcut to this part of the project. In the next couple of problems, you'll have the option to use classes from the [TensorFlow Layers](https://www.tensorflow.org/api_docs/python/tf/layers) or [TensorFlow Layers (contrib)](https://www.tensorflow.org/api_guides/python/contrib.layers) packages to build each layer, except the layers you build in the \"Convolutional and Max Pooling Layer\" section.  TF Layers is similar to Keras's and TFLearn's abstraction to layers, so it's easy to pickup.\n",
    "\n",
    ">However, if you would like to get the most out of this course, try to solve all the problems _without_ using anything from the TF Layers packages. You **can** still use classes from other packages that happen to have the same name as ones you find in TF Layers! For example, instead of using the TF Layers version of the `conv2d` class, [tf.layers.conv2d](https://www.tensorflow.org/api_docs/python/tf/layers/conv2d), you would want to use the TF Neural Network version of `conv2d`, [tf.nn.conv2d](https://www.tensorflow.org/api_docs/python/tf/nn/conv2d). \n",
    "\n",
    "Let's begin!\n",
    "\n",
    "### Input\n",
    "The neural network needs to read the image data, one-hot encoded labels, and dropout keep probability. Implement the following functions\n",
    "* Implement `neural_net_image_input`\n",
    " * Return a [TF Placeholder](https://www.tensorflow.org/api_docs/python/tf/placeholder)\n",
    " * Set the shape using `image_shape` with batch size set to `None`.\n",
    " * Name the TensorFlow placeholder \"x\" using the TensorFlow `name` parameter in the [TF Placeholder](https://www.tensorflow.org/api_docs/python/tf/placeholder).\n",
    "* Implement `neural_net_label_input`\n",
    " * Return a [TF Placeholder](https://www.tensorflow.org/api_docs/python/tf/placeholder)\n",
    " * Set the shape using `n_classes` with batch size set to `None`.\n",
    " * Name the TensorFlow placeholder \"y\" using the TensorFlow `name` parameter in the [TF Placeholder](https://www.tensorflow.org/api_docs/python/tf/placeholder).\n",
    "* Implement `neural_net_keep_prob_input`\n",
    " * Return a [TF Placeholder](https://www.tensorflow.org/api_docs/python/tf/placeholder) for dropout keep probability.\n",
    " * Name the TensorFlow placeholder \"keep_prob\" using the TensorFlow `name` parameter in the [TF Placeholder](https://www.tensorflow.org/api_docs/python/tf/placeholder).\n",
    "\n",
    "These names will be used at the end of the project to load your saved model.\n",
    "\n",
    "Note: `None` for shapes in TensorFlow allow for a dynamic size."
   ]
  },
  {
   "cell_type": "code",
   "execution_count": 9,
   "metadata": {
    "collapsed": false,
    "deletable": true,
    "editable": true
   },
   "outputs": [
    {
     "name": "stdout",
     "output_type": "stream",
     "text": [
      "Image Input Tests Passed.\n",
      "Label Input Tests Passed.\n",
      "Keep Prob Tests Passed.\n"
     ]
    }
   ],
   "source": [
    "import tensorflow as tf\n",
    "\n",
    "def neural_net_image_input(image_shape):\n",
    "    \"\"\"\n",
    "    Return a Tensor for a batch of image input\n",
    "    : image_shape: Shape of the images\n",
    "    : return: Tensor for image input.\n",
    "    \"\"\"\n",
    "    # TODO: Implement Function\n",
    "    return tf.placeholder(tf.float32, shape=(None, *image_shape), name = 'x')\n",
    "\n",
    "\n",
    "def neural_net_label_input(n_classes):\n",
    "    \"\"\"\n",
    "    Return a Tensor for a batch of label input\n",
    "    : n_classes: Number of classes\n",
    "    : return: Tensor for label input.\n",
    "    \"\"\"\n",
    "    # TODO: Implement Function\n",
    "    return tf.placeholder(tf.float32, shape=(None, n_classes), name = 'y')\n",
    "\n",
    "\n",
    "def neural_net_keep_prob_input():\n",
    "    \"\"\"\n",
    "    Return a Tensor for keep probability\n",
    "    : return: Tensor for keep probability.\n",
    "    \"\"\"\n",
    "    # TODO: Implement Function\n",
    "    return tf.placeholder(tf.float32, name='keep_prob')\n",
    "\n",
    "\n",
    "\"\"\"\n",
    "DON'T MODIFY ANYTHING IN THIS CELL THAT IS BELOW THIS LINE\n",
    "\"\"\"\n",
    "tf.reset_default_graph()\n",
    "tests.test_nn_image_inputs(neural_net_image_input)\n",
    "tests.test_nn_label_inputs(neural_net_label_input)\n",
    "tests.test_nn_keep_prob_inputs(neural_net_keep_prob_input)"
   ]
  },
  {
   "cell_type": "markdown",
   "metadata": {
    "deletable": true,
    "editable": true
   },
   "source": [
    "### Convolution and Max Pooling Layer\n",
    "Convolution layers have a lot of success with images. For this code cell, you should implement the function `conv2d_maxpool` to apply convolution then max pooling:\n",
    "* Create the weight and bias using `conv_ksize`, `conv_num_outputs` and the shape of `x_tensor`.\n",
    "* Apply a convolution to `x_tensor` using weight and `conv_strides`.\n",
    " * We recommend you use same padding, but you're welcome to use any padding.\n",
    "* Add bias\n",
    "* Add a nonlinear activation to the convolution.\n",
    "* Apply Max Pooling using `pool_ksize` and `pool_strides`.\n",
    " * We recommend you use same padding, but you're welcome to use any padding.\n",
    "\n",
    "**Note:** You **can't** use [TensorFlow Layers](https://www.tensorflow.org/api_docs/python/tf/layers) or [TensorFlow Layers (contrib)](https://www.tensorflow.org/api_guides/python/contrib.layers) for **this** layer, but you can still use TensorFlow's [Neural Network](https://www.tensorflow.org/api_docs/python/tf/nn) package. You may still use the shortcut option for all the **other** layers.\n",
    "\n",
    "** Hint: **\n",
    "\n",
    "When unpacking values as an argument in Python, look into the [unpacking](https://docs.python.org/3/tutorial/controlflow.html#unpacking-argument-lists) operator. "
   ]
  },
  {
   "cell_type": "code",
   "execution_count": 10,
   "metadata": {
    "collapsed": false,
    "deletable": true,
    "editable": true
   },
   "outputs": [
    {
     "name": "stdout",
     "output_type": "stream",
     "text": [
      "Tests Passed\n"
     ]
    }
   ],
   "source": [
    "def conv2d_maxpool(x_tensor, conv_num_outputs, conv_ksize, conv_strides, pool_ksize, pool_strides):\n",
    "    \"\"\"\n",
    "    Apply convolution then max pooling to x_tensor\n",
    "    :param x_tensor: TensorFlow Tensor\n",
    "    :param conv_num_outputs: Number of outputs for the convolutional layer\n",
    "    :param conv_ksize: kernal size 2-D Tuple for the convolutional layer\n",
    "    :param conv_strides: Stride 2-D Tuple for convolution\n",
    "    :param pool_ksize: kernal size 2-D Tuple for pool\n",
    "    :param pool_strides: Stride 2-D Tuple for pool\n",
    "    : return: A tensor that represents convolution and max pooling of x_tensor\n",
    "    \"\"\"\n",
    "    # TODO: Implement Function\n",
    "    # Weight and bias\n",
    "    weight_shape = (*conv_ksize, x_tensor.get_shape().as_list()[3], conv_num_outputs)\n",
    "    initialize = np.sqrt(2.0/np.prod(weight_shape[:2])) # weight initializer most suitable for relus [He et al]\n",
    "    \n",
    "    weight = tf.Variable(tf.truncated_normal(weight_shape, mean=0, stddev=initialize, dtype=tf.float32))\n",
    "    bias = tf.Variable(tf.zeros(conv_num_outputs))\n",
    "    \n",
    "    # Apply Convolution\n",
    "    conv_layer = tf.nn.conv2d(x_tensor, weight, strides=[1, *conv_strides, 1], padding='SAME')\n",
    "    \n",
    "    # Add bias\n",
    "    conv_layer = tf.nn.bias_add(conv_layer, bias)\n",
    "    \n",
    "    # Apply activation function\n",
    "    conv_layer = tf.nn.relu(conv_layer)\n",
    "\n",
    "    # Apply Max Pooling\n",
    "    conv_layer = tf.nn.max_pool(conv_layer, ksize=[1, *pool_ksize, 1], strides=[1, *pool_strides, 1], padding='SAME')\n",
    "\n",
    "    return conv_layer \n",
    "\n",
    "\n",
    "\"\"\"\n",
    "DON'T MODIFY ANYTHING IN THIS CELL THAT IS BELOW THIS LINE\n",
    "\"\"\"\n",
    "tests.test_con_pool(conv2d_maxpool)"
   ]
  },
  {
   "cell_type": "markdown",
   "metadata": {
    "deletable": true,
    "editable": true
   },
   "source": [
    "### Flatten Layer\n",
    "Implement the `flatten` function to change the dimension of `x_tensor` from a 4-D tensor to a 2-D tensor.  The output should be the shape (*Batch Size*, *Flattened Image Size*). Shortcut option: you can use classes from the [TensorFlow Layers](https://www.tensorflow.org/api_docs/python/tf/layers) or [TensorFlow Layers (contrib)](https://www.tensorflow.org/api_guides/python/contrib.layers) packages for this layer. For more of a challenge, only use other TensorFlow packages."
   ]
  },
  {
   "cell_type": "code",
   "execution_count": 11,
   "metadata": {
    "collapsed": false,
    "deletable": true,
    "editable": true
   },
   "outputs": [
    {
     "name": "stdout",
     "output_type": "stream",
     "text": [
      "Tests Passed\n"
     ]
    }
   ],
   "source": [
    "def flatten(x_tensor):\n",
    "    \"\"\"\n",
    "    Flatten x_tensor to (Batch Size, Flattened Image Size)\n",
    "    : x_tensor: A tensor of size (Batch Size, ...), where ... are the image dimensions.\n",
    "    : return: A tensor of size (Batch Size, Flattened Image Size).\n",
    "    \"\"\"\n",
    "    # TODO: Implement Function\n",
    "    shape = x_tensor.get_shape().as_list()\n",
    "    dimension_size = np.prod(shape[1:])\n",
    "    return tf.reshape(x_tensor, [-1, dimension_size])\n",
    "\n",
    "\n",
    "\"\"\"\n",
    "DON'T MODIFY ANYTHING IN THIS CELL THAT IS BELOW THIS LINE\n",
    "\"\"\"\n",
    "tests.test_flatten(flatten)"
   ]
  },
  {
   "cell_type": "markdown",
   "metadata": {
    "deletable": true,
    "editable": true
   },
   "source": [
    "### Fully-Connected Layer\n",
    "Implement the `fully_conn` function to apply a fully connected layer to `x_tensor` with the shape (*Batch Size*, *num_outputs*). Shortcut option: you can use classes from the [TensorFlow Layers](https://www.tensorflow.org/api_docs/python/tf/layers) or [TensorFlow Layers (contrib)](https://www.tensorflow.org/api_guides/python/contrib.layers) packages for this layer. For more of a challenge, only use other TensorFlow packages."
   ]
  },
  {
   "cell_type": "code",
   "execution_count": 12,
   "metadata": {
    "collapsed": false,
    "deletable": true,
    "editable": true
   },
   "outputs": [
    {
     "name": "stdout",
     "output_type": "stream",
     "text": [
      "Tests Passed\n"
     ]
    }
   ],
   "source": [
    "def fully_conn(x_tensor, num_outputs):\n",
    "    \"\"\"\n",
    "    Apply a fully connected layer to x_tensor using weight and bias\n",
    "    : x_tensor: A 2-D tensor where the first dimension is batch size.\n",
    "    : num_outputs: The number of output that the new tensor should be.\n",
    "    : return: A 2-D tensor where the second dimension is num_outputs.\n",
    "    \"\"\"\n",
    "    # TODO: Implement Function\n",
    "    num_input = x_tensor.get_shape().as_list()[1]\n",
    "\n",
    "    initialize = np.sqrt(2.0/num_input)\n",
    "\n",
    "    weight = tf.Variable(tf.truncated_normal((num_input, num_outputs), mean=0, stddev=initialize, dtype=tf.float32))\n",
    "    bias = tf.Variable(tf.zeros(num_outputs))\n",
    "    \n",
    "    # Logits - xW + b\n",
    "    logits = tf.add(tf.matmul(x_tensor, weight), bias)\n",
    "    \n",
    "    return tf.nn.relu(logits)\n",
    "\n",
    "\n",
    "\"\"\"\n",
    "DON'T MODIFY ANYTHING IN THIS CELL THAT IS BELOW THIS LINE\n",
    "\"\"\"\n",
    "tests.test_fully_conn(fully_conn)"
   ]
  },
  {
   "cell_type": "markdown",
   "metadata": {
    "deletable": true,
    "editable": true
   },
   "source": [
    "### Output Layer\n",
    "Implement the `output` function to apply a fully connected layer to `x_tensor` with the shape (*Batch Size*, *num_outputs*). Shortcut option: you can use classes from the [TensorFlow Layers](https://www.tensorflow.org/api_docs/python/tf/layers) or [TensorFlow Layers (contrib)](https://www.tensorflow.org/api_guides/python/contrib.layers) packages for this layer. For more of a challenge, only use other TensorFlow packages.\n",
    "\n",
    "**Note:** Activation, softmax, or cross entropy should **not** be applied to this."
   ]
  },
  {
   "cell_type": "code",
   "execution_count": 13,
   "metadata": {
    "collapsed": false,
    "deletable": true,
    "editable": true
   },
   "outputs": [
    {
     "name": "stdout",
     "output_type": "stream",
     "text": [
      "Tests Passed\n"
     ]
    }
   ],
   "source": [
    "def output(x_tensor, num_outputs):\n",
    "    \"\"\"\n",
    "    Apply a output layer to x_tensor using weight and bias\n",
    "    : x_tensor: A 2-D tensor where the first dimension is batch size.\n",
    "    : num_outputs: The number of output that the new tensor should be.\n",
    "    : return: A 2-D tensor where the second dimension is num_outputs.\n",
    "    \"\"\"\n",
    "    # TODO: Implement Function\n",
    "    num_input = x_tensor.get_shape().as_list()[1]\n",
    "    initialize = np.sqrt(num_input )\n",
    "\n",
    "    weight = tf.Variable(tf.truncated_normal((num_input, num_outputs), mean=0, stddev=1.0/initialize, dtype=tf.float32))\n",
    "    bias = tf.Variable(tf.zeros(num_outputs))\n",
    "    \n",
    "    # Logits - xW + b\n",
    "    logit = tf.add(tf.matmul(x_tensor, weight), bias)\n",
    "    return logit\n",
    "\n",
    "\n",
    "\"\"\"\n",
    "DON'T MODIFY ANYTHING IN THIS CELL THAT IS BELOW THIS LINE\n",
    "\"\"\"\n",
    "tests.test_output(output)"
   ]
  },
  {
   "cell_type": "markdown",
   "metadata": {
    "deletable": true,
    "editable": true
   },
   "source": [
    "### Create Convolutional Model\n",
    "Implement the function `conv_net` to create a convolutional neural network model. The function takes in a batch of images, `x`, and outputs logits.  Use the layers you created above to create this model:\n",
    "\n",
    "* Apply 1, 2, or 3 Convolution and Max Pool layers\n",
    "* Apply a Flatten Layer\n",
    "* Apply 1, 2, or 3 Fully Connected Layers\n",
    "* Apply an Output Layer\n",
    "* Return the output\n",
    "* Apply [TensorFlow's Dropout](https://www.tensorflow.org/api_docs/python/tf/nn/dropout) to one or more layers in the model using `keep_prob`. "
   ]
  },
  {
   "cell_type": "code",
   "execution_count": 14,
   "metadata": {
    "collapsed": false,
    "deletable": true,
    "editable": true
   },
   "outputs": [
    {
     "name": "stdout",
     "output_type": "stream",
     "text": [
      "Neural Network Built!\n"
     ]
    }
   ],
   "source": [
    "def conv_net(x, keep_prob):\n",
    "    \"\"\"\n",
    "    Create a convolutional neural network model\n",
    "    : x: Placeholder tensor that holds image data.\n",
    "    : keep_prob: Placeholder tensor that hold dropout keep probability.\n",
    "    : return: Tensor that represents logits\n",
    "    \"\"\"\n",
    "    con_tensor = x\n",
    "\n",
    "    # TODO: Apply 1, 2, or 3 Convolution and Max Pool layers\n",
    "    #    Play around with different number of outputs, kernel size and stride\n",
    "    # Function Definition from Above:\n",
    "    #    conv2d_maxpool(x_tensor, conv_num_outputs, conv_ksize, conv_strides, pool_ksize, pool_strides)\n",
    "\n",
    "    # parameters remain the same for the different convolution networks applied below\n",
    "    # as defined in VGGNet by [Simonyan and Zisserman, 2014]\n",
    "    \n",
    "    ksize = 3   #kernel size of (3,3)\n",
    "    stride = 1  #stride for kernel size of (1, 1) -- the dimensions of the input remains the same\n",
    "    pksize = 2  #pool kernel size of (2, 2) \n",
    "    pstride = 2 #pool stride size of (2, 2) -- reducing the dimension of the input by half\n",
    "    \n",
    "    # 3 layers of convolution layer and maximum pooling layer\n",
    "    # after application of each conv2d_maxpool, a drop out layer is added for regularization\n",
    "    # each of the layers has output layers in the powers of 2 for better performance\n",
    "    # these output layer are increased as the dimension of the input is halved\n",
    "    con_tensor = conv2d_maxpool(con_tensor, 64, (ksize, ksize), (stride, stride) , (pksize, pksize), (pstride, pstride))\n",
    "    con_tensor = tf.nn.dropout(con_tensor, keep_prob) #drop out to regularize\n",
    "    con_tensor = conv2d_maxpool(con_tensor, 128, (ksize, ksize), (stride, stride) , (pksize, pksize), (pstride, pstride))\n",
    "    con_tensor = tf.nn.dropout(con_tensor, keep_prob) #drop out to regularize\n",
    "    con_tensor = conv2d_maxpool(con_tensor, 256, (ksize, ksize), (stride, stride) , (pksize, pksize), (pstride, pstride))\n",
    "    con_tensor = tf.nn.dropout(con_tensor, keep_prob) #drop out to regularize\n",
    "    \n",
    "    # TODO: Apply a Flatten Layer\n",
    "    # Function Definition from Above:\n",
    "    #   flatten(x_tensor)\n",
    "    con_tensor = flatten(con_tensor)\n",
    "    \n",
    "    # TODO: Apply 1, 2, or 3 Fully Connected Layers\n",
    "    #    Play around with different number of outputs\n",
    "    # Function Definition from Above:\n",
    "    #   fully_conn(x_tensor, num_outputs)\n",
    "    \n",
    "    # 2 fully connected layers are added with output volumn of power of 2\n",
    "    # drop out layer is added after every fully connected layer for regularization\n",
    "    con_tensor = fully_conn(con_tensor, 1024)\n",
    "    con_tensor = tf.nn.dropout(con_tensor, keep_prob) #drop out to regularize\n",
    "    con_tensor = fully_conn(con_tensor, 1024)\n",
    "    con_tensor = tf.nn.dropout(con_tensor, keep_prob) #drop out to regularize\n",
    "\n",
    "    # TODO: Apply an Output Layer\n",
    "    #    Set this to the number of classes\n",
    "    # Function Definition from Above:\n",
    "    #   output(x_tensor, num_outputs)\n",
    "    con_tensor = output(con_tensor, 10) # output layer is applied\n",
    "    return con_tensor\n",
    "\n",
    "\n",
    "\"\"\"\n",
    "DON'T MODIFY ANYTHING IN THIS CELL THAT IS BELOW THIS LINE\n",
    "\"\"\"\n",
    "\n",
    "##############################\n",
    "## Build the Neural Network ##\n",
    "##############################\n",
    "\n",
    "# Remove previous weights, bias, inputs, etc..\n",
    "tf.reset_default_graph()\n",
    "\n",
    "# Inputs\n",
    "x = neural_net_image_input((32, 32, 3))\n",
    "y = neural_net_label_input(10)\n",
    "keep_prob = neural_net_keep_prob_input()\n",
    "\n",
    "# Model\n",
    "logits = conv_net(x, keep_prob)\n",
    "\n",
    "# Name logits Tensor, so that is can be loaded from disk after training\n",
    "logits = tf.identity(logits, name='logits')\n",
    "\n",
    "# Loss and Optimizer\n",
    "cost = tf.reduce_mean(tf.nn.softmax_cross_entropy_with_logits(logits=logits, labels=y))\n",
    "optimizer = tf.train.AdamOptimizer().minimize(cost)\n",
    "\n",
    "# Accuracy\n",
    "correct_pred = tf.equal(tf.argmax(logits, 1), tf.argmax(y, 1))\n",
    "accuracy = tf.reduce_mean(tf.cast(correct_pred, tf.float32), name='accuracy')\n",
    "\n",
    "tests.test_conv_net(conv_net)"
   ]
  },
  {
   "cell_type": "markdown",
   "metadata": {
    "deletable": true,
    "editable": true
   },
   "source": [
    "## Train the Neural Network\n",
    "### Single Optimization\n",
    "Implement the function `train_neural_network` to do a single optimization.  The optimization should use `optimizer` to optimize in `session` with a `feed_dict` of the following:\n",
    "* `x` for image input\n",
    "* `y` for labels\n",
    "* `keep_prob` for keep probability for dropout\n",
    "\n",
    "This function will be called for each batch, so `tf.global_variables_initializer()` has already been called.\n",
    "\n",
    "Note: Nothing needs to be returned. This function is only optimizing the neural network."
   ]
  },
  {
   "cell_type": "code",
   "execution_count": 15,
   "metadata": {
    "collapsed": false,
    "deletable": true,
    "editable": true
   },
   "outputs": [
    {
     "name": "stdout",
     "output_type": "stream",
     "text": [
      "Tests Passed\n"
     ]
    }
   ],
   "source": [
    "def train_neural_network(session, optimizer, keep_probability, feature_batch, label_batch):\n",
    "    \"\"\"\n",
    "    Optimize the session on a batch of images and labels\n",
    "    : session: Current TensorFlow session\n",
    "    : optimizer: TensorFlow optimizer function\n",
    "    : keep_probability: keep probability\n",
    "    : feature_batch: Batch of Numpy image data\n",
    "    : label_batch: Batch of Numpy label data\n",
    "    \"\"\"\n",
    "    # TODO: Implement Function\n",
    "    session.run(optimizer, feed_dict={\n",
    "                          x: feature_batch,\n",
    "                          y: label_batch,\n",
    "                          keep_prob: keep_probability})\n",
    "    pass\n",
    "\n",
    "\n",
    "\"\"\"\n",
    "DON'T MODIFY ANYTHING IN THIS CELL THAT IS BELOW THIS LINE\n",
    "\"\"\"\n",
    "tests.test_train_nn(train_neural_network)"
   ]
  },
  {
   "cell_type": "markdown",
   "metadata": {
    "deletable": true,
    "editable": true
   },
   "source": [
    "### Show Stats\n",
    "Implement the function `print_stats` to print loss and validation accuracy.  Use the global variables `valid_features` and `valid_labels` to calculate validation accuracy.  Use a keep probability of `1.0` to calculate the loss and validation accuracy."
   ]
  },
  {
   "cell_type": "code",
   "execution_count": 16,
   "metadata": {
    "collapsed": false,
    "deletable": true,
    "editable": true
   },
   "outputs": [],
   "source": [
    "def print_stats(session, feature_batch, label_batch, cost, accuracy):\n",
    "    \"\"\"\n",
    "    Print information about loss and validation accuracy\n",
    "    : session: Current TensorFlow session\n",
    "    : feature_batch: Batch of Numpy image data\n",
    "    : label_batch: Batch of Numpy label data\n",
    "    : cost: TensorFlow cost function\n",
    "    : accuracy: TensorFlow accuracy function\n",
    "    \"\"\"\n",
    "    # TODO: Implement Function\n",
    "    loss = sess.run(cost, feed_dict={\n",
    "                x: feature_batch,\n",
    "                y: label_batch,\n",
    "                keep_prob: 1.})\n",
    "    valid_acc = sess.run(accuracy, feed_dict={\n",
    "                x: valid_features,\n",
    "                y: valid_labels,\n",
    "                keep_prob: 1.})\n",
    "    print ('Loss: {:>10.4f} Validation Accuracy: {:.6f}'.format(\n",
    "                loss,\n",
    "                valid_acc))\n",
    "    pass"
   ]
  },
  {
   "cell_type": "markdown",
   "metadata": {
    "deletable": true,
    "editable": true
   },
   "source": [
    "### Hyperparameters\n",
    "Tune the following parameters:\n",
    "* Set `epochs` to the number of iterations until the network stops learning or start overfitting\n",
    "* Set `batch_size` to the highest number that your machine has memory for.  Most people set them to common sizes of memory:\n",
    " * 64\n",
    " * 128\n",
    " * 256\n",
    " * ...\n",
    "* Set `keep_probability` to the probability of keeping a node using dropout"
   ]
  },
  {
   "cell_type": "code",
   "execution_count": 17,
   "metadata": {
    "collapsed": true,
    "deletable": true,
    "editable": true
   },
   "outputs": [],
   "source": [
    "# TODO: Tune Parameters\n",
    "epochs = 50       # The model quickly converges because of the use of weight initilization\n",
    "batch_size = 128\n",
    "keep_probability = 0.93"
   ]
  },
  {
   "cell_type": "markdown",
   "metadata": {
    "deletable": true,
    "editable": true
   },
   "source": [
    "### Train on a Single CIFAR-10 Batch\n",
    "Instead of training the neural network on all the CIFAR-10 batches of data, let's use a single batch. This should save time while you iterate on the model to get a better accuracy.  Once the final validation accuracy is 50% or greater, run the model on all the data in the next section."
   ]
  },
  {
   "cell_type": "code",
   "execution_count": 18,
   "metadata": {
    "collapsed": false,
    "deletable": true,
    "editable": true
   },
   "outputs": [
    {
     "name": "stdout",
     "output_type": "stream",
     "text": [
      "Checking the Training on a Single Batch...\n",
      "Epoch  1, CIFAR-10 Batch 1:  Loss:     2.2510 Validation Accuracy: 0.166000\n",
      "Epoch  2, CIFAR-10 Batch 1:  Loss:     2.0965 Validation Accuracy: 0.237600\n",
      "Epoch  3, CIFAR-10 Batch 1:  Loss:     2.0223 Validation Accuracy: 0.277000\n",
      "Epoch  4, CIFAR-10 Batch 1:  Loss:     1.9981 Validation Accuracy: 0.295400\n",
      "Epoch  5, CIFAR-10 Batch 1:  Loss:     1.9354 Validation Accuracy: 0.323800\n",
      "Epoch  6, CIFAR-10 Batch 1:  Loss:     1.8454 Validation Accuracy: 0.368000\n",
      "Epoch  7, CIFAR-10 Batch 1:  Loss:     1.8994 Validation Accuracy: 0.383600\n",
      "Epoch  8, CIFAR-10 Batch 1:  Loss:     1.8238 Validation Accuracy: 0.414400\n",
      "Epoch  9, CIFAR-10 Batch 1:  Loss:     1.8206 Validation Accuracy: 0.420400\n",
      "Epoch 10, CIFAR-10 Batch 1:  Loss:     1.7759 Validation Accuracy: 0.432400\n",
      "Epoch 11, CIFAR-10 Batch 1:  Loss:     1.7297 Validation Accuracy: 0.429200\n",
      "Epoch 12, CIFAR-10 Batch 1:  Loss:     1.5824 Validation Accuracy: 0.459200\n",
      "Epoch 13, CIFAR-10 Batch 1:  Loss:     1.5664 Validation Accuracy: 0.463400\n",
      "Epoch 14, CIFAR-10 Batch 1:  Loss:     1.5333 Validation Accuracy: 0.455000\n",
      "Epoch 15, CIFAR-10 Batch 1:  Loss:     1.4938 Validation Accuracy: 0.459000\n",
      "Epoch 16, CIFAR-10 Batch 1:  Loss:     1.4377 Validation Accuracy: 0.472200\n",
      "Epoch 17, CIFAR-10 Batch 1:  Loss:     1.3827 Validation Accuracy: 0.476000\n",
      "Epoch 18, CIFAR-10 Batch 1:  Loss:     1.3566 Validation Accuracy: 0.488400\n",
      "Epoch 19, CIFAR-10 Batch 1:  Loss:     1.3549 Validation Accuracy: 0.474400\n",
      "Epoch 20, CIFAR-10 Batch 1:  Loss:     1.2799 Validation Accuracy: 0.489200\n",
      "Epoch 21, CIFAR-10 Batch 1:  Loss:     1.1489 Validation Accuracy: 0.497400\n",
      "Epoch 22, CIFAR-10 Batch 1:  Loss:     1.2366 Validation Accuracy: 0.477400\n",
      "Epoch 23, CIFAR-10 Batch 1:  Loss:     1.1343 Validation Accuracy: 0.489600\n",
      "Epoch 24, CIFAR-10 Batch 1:  Loss:     1.0440 Validation Accuracy: 0.518400\n",
      "Epoch 25, CIFAR-10 Batch 1:  Loss:     1.0094 Validation Accuracy: 0.515200\n",
      "Epoch 26, CIFAR-10 Batch 1:  Loss:     1.0442 Validation Accuracy: 0.526400\n",
      "Epoch 27, CIFAR-10 Batch 1:  Loss:     0.9190 Validation Accuracy: 0.536600\n",
      "Epoch 28, CIFAR-10 Batch 1:  Loss:     0.9139 Validation Accuracy: 0.529400\n",
      "Epoch 29, CIFAR-10 Batch 1:  Loss:     0.9539 Validation Accuracy: 0.527800\n",
      "Epoch 30, CIFAR-10 Batch 1:  Loss:     0.8463 Validation Accuracy: 0.540200\n",
      "Epoch 31, CIFAR-10 Batch 1:  Loss:     0.8763 Validation Accuracy: 0.528800\n",
      "Epoch 32, CIFAR-10 Batch 1:  Loss:     0.8137 Validation Accuracy: 0.537600\n",
      "Epoch 33, CIFAR-10 Batch 1:  Loss:     0.7407 Validation Accuracy: 0.550800\n",
      "Epoch 34, CIFAR-10 Batch 1:  Loss:     0.8188 Validation Accuracy: 0.550800\n",
      "Epoch 35, CIFAR-10 Batch 1:  Loss:     0.7514 Validation Accuracy: 0.554000\n",
      "Epoch 36, CIFAR-10 Batch 1:  Loss:     0.5989 Validation Accuracy: 0.560400\n",
      "Epoch 37, CIFAR-10 Batch 1:  Loss:     0.6523 Validation Accuracy: 0.563200\n",
      "Epoch 38, CIFAR-10 Batch 1:  Loss:     0.6168 Validation Accuracy: 0.561800\n",
      "Epoch 39, CIFAR-10 Batch 1:  Loss:     0.5657 Validation Accuracy: 0.573200\n",
      "Epoch 40, CIFAR-10 Batch 1:  Loss:     0.5675 Validation Accuracy: 0.562400\n",
      "Epoch 41, CIFAR-10 Batch 1:  Loss:     0.5393 Validation Accuracy: 0.573200\n",
      "Epoch 42, CIFAR-10 Batch 1:  Loss:     0.4662 Validation Accuracy: 0.572200\n",
      "Epoch 43, CIFAR-10 Batch 1:  Loss:     0.4090 Validation Accuracy: 0.571200\n",
      "Epoch 44, CIFAR-10 Batch 1:  Loss:     0.3771 Validation Accuracy: 0.580400\n",
      "Epoch 45, CIFAR-10 Batch 1:  Loss:     0.3667 Validation Accuracy: 0.581600\n",
      "Epoch 46, CIFAR-10 Batch 1:  Loss:     0.3403 Validation Accuracy: 0.586400\n",
      "Epoch 47, CIFAR-10 Batch 1:  Loss:     0.3280 Validation Accuracy: 0.574400\n",
      "Epoch 48, CIFAR-10 Batch 1:  Loss:     0.3478 Validation Accuracy: 0.585600\n",
      "Epoch 49, CIFAR-10 Batch 1:  Loss:     0.2205 Validation Accuracy: 0.594400\n",
      "Epoch 50, CIFAR-10 Batch 1:  Loss:     0.2194 Validation Accuracy: 0.587000\n"
     ]
    }
   ],
   "source": [
    "\"\"\"\n",
    "DON'T MODIFY ANYTHING IN THIS CELL\n",
    "\"\"\"\n",
    "print('Checking the Training on a Single Batch...')\n",
    "with tf.Session() as sess:\n",
    "    # Initializing the variables\n",
    "    sess.run(tf.global_variables_initializer())\n",
    "    \n",
    "    # Training cycle\n",
    "    for epoch in range(epochs):\n",
    "        batch_i = 1\n",
    "        for batch_features, batch_labels in helper.load_preprocess_training_batch(batch_i, batch_size):\n",
    "            train_neural_network(sess, optimizer, keep_probability, batch_features, batch_labels)\n",
    "        print('Epoch {:>2}, CIFAR-10 Batch {}:  '.format(epoch + 1, batch_i), end='')\n",
    "        print_stats(sess, batch_features, batch_labels, cost, accuracy)"
   ]
  },
  {
   "cell_type": "markdown",
   "metadata": {
    "deletable": true,
    "editable": true
   },
   "source": [
    "### Fully Train the Model\n",
    "Now that you got a good accuracy with a single CIFAR-10 batch, try it with all five batches."
   ]
  },
  {
   "cell_type": "code",
   "execution_count": 19,
   "metadata": {
    "collapsed": false,
    "deletable": true,
    "editable": true
   },
   "outputs": [
    {
     "name": "stdout",
     "output_type": "stream",
     "text": [
      "Training...\n",
      "Epoch  1, CIFAR-10 Batch 1:  Loss:     2.2423 Validation Accuracy: 0.179000\n",
      "Epoch  1, CIFAR-10 Batch 2:  Loss:     2.0908 Validation Accuracy: 0.210400\n",
      "Epoch  1, CIFAR-10 Batch 3:  Loss:     1.9937 Validation Accuracy: 0.222200\n",
      "Epoch  1, CIFAR-10 Batch 4:  Loss:     1.8962 Validation Accuracy: 0.219600\n",
      "Epoch  1, CIFAR-10 Batch 5:  Loss:     2.1056 Validation Accuracy: 0.217200\n",
      "Epoch  2, CIFAR-10 Batch 1:  Loss:     2.1513 Validation Accuracy: 0.242800\n",
      "Epoch  2, CIFAR-10 Batch 2:  Loss:     1.9976 Validation Accuracy: 0.265000\n",
      "Epoch  2, CIFAR-10 Batch 3:  Loss:     1.9045 Validation Accuracy: 0.281800\n",
      "Epoch  2, CIFAR-10 Batch 4:  Loss:     1.7053 Validation Accuracy: 0.312400\n",
      "Epoch  2, CIFAR-10 Batch 5:  Loss:     1.9491 Validation Accuracy: 0.324800\n",
      "Epoch  3, CIFAR-10 Batch 1:  Loss:     1.9336 Validation Accuracy: 0.367200\n",
      "Epoch  3, CIFAR-10 Batch 2:  Loss:     1.7645 Validation Accuracy: 0.373200\n",
      "Epoch  3, CIFAR-10 Batch 3:  Loss:     1.7621 Validation Accuracy: 0.324400\n",
      "Epoch  3, CIFAR-10 Batch 4:  Loss:     1.6959 Validation Accuracy: 0.382400\n",
      "Epoch  3, CIFAR-10 Batch 5:  Loss:     1.8579 Validation Accuracy: 0.401200\n",
      "Epoch  4, CIFAR-10 Batch 1:  Loss:     1.9951 Validation Accuracy: 0.401400\n",
      "Epoch  4, CIFAR-10 Batch 2:  Loss:     1.7339 Validation Accuracy: 0.387400\n",
      "Epoch  4, CIFAR-10 Batch 3:  Loss:     1.4310 Validation Accuracy: 0.425600\n",
      "Epoch  4, CIFAR-10 Batch 4:  Loss:     1.7144 Validation Accuracy: 0.403400\n",
      "Epoch  4, CIFAR-10 Batch 5:  Loss:     1.8428 Validation Accuracy: 0.415400\n",
      "Epoch  5, CIFAR-10 Batch 1:  Loss:     1.8283 Validation Accuracy: 0.423800\n",
      "Epoch  5, CIFAR-10 Batch 2:  Loss:     1.5428 Validation Accuracy: 0.429000\n",
      "Epoch  5, CIFAR-10 Batch 3:  Loss:     1.4302 Validation Accuracy: 0.448000\n",
      "Epoch  5, CIFAR-10 Batch 4:  Loss:     1.6358 Validation Accuracy: 0.437600\n",
      "Epoch  5, CIFAR-10 Batch 5:  Loss:     1.7237 Validation Accuracy: 0.431400\n",
      "Epoch  6, CIFAR-10 Batch 1:  Loss:     1.7105 Validation Accuracy: 0.457800\n",
      "Epoch  6, CIFAR-10 Batch 2:  Loss:     1.4820 Validation Accuracy: 0.448000\n",
      "Epoch  6, CIFAR-10 Batch 3:  Loss:     1.3383 Validation Accuracy: 0.461000\n",
      "Epoch  6, CIFAR-10 Batch 4:  Loss:     1.4981 Validation Accuracy: 0.479400\n",
      "Epoch  6, CIFAR-10 Batch 5:  Loss:     1.6658 Validation Accuracy: 0.451600\n",
      "Epoch  7, CIFAR-10 Batch 1:  Loss:     1.7167 Validation Accuracy: 0.465800\n",
      "Epoch  7, CIFAR-10 Batch 2:  Loss:     1.3106 Validation Accuracy: 0.491800\n",
      "Epoch  7, CIFAR-10 Batch 3:  Loss:     1.1819 Validation Accuracy: 0.500000\n",
      "Epoch  7, CIFAR-10 Batch 4:  Loss:     1.3772 Validation Accuracy: 0.481400\n",
      "Epoch  7, CIFAR-10 Batch 5:  Loss:     1.4244 Validation Accuracy: 0.504400\n",
      "Epoch  8, CIFAR-10 Batch 1:  Loss:     1.6249 Validation Accuracy: 0.501400\n",
      "Epoch  8, CIFAR-10 Batch 2:  Loss:     1.2678 Validation Accuracy: 0.500600\n",
      "Epoch  8, CIFAR-10 Batch 3:  Loss:     1.1159 Validation Accuracy: 0.518600\n",
      "Epoch  8, CIFAR-10 Batch 4:  Loss:     1.2305 Validation Accuracy: 0.503000\n",
      "Epoch  8, CIFAR-10 Batch 5:  Loss:     1.4283 Validation Accuracy: 0.501400\n",
      "Epoch  9, CIFAR-10 Batch 1:  Loss:     1.5093 Validation Accuracy: 0.505400\n",
      "Epoch  9, CIFAR-10 Batch 2:  Loss:     1.1172 Validation Accuracy: 0.538800\n",
      "Epoch  9, CIFAR-10 Batch 3:  Loss:     1.0007 Validation Accuracy: 0.527000\n",
      "Epoch  9, CIFAR-10 Batch 4:  Loss:     1.1392 Validation Accuracy: 0.527800\n",
      "Epoch  9, CIFAR-10 Batch 5:  Loss:     1.3391 Validation Accuracy: 0.516600\n",
      "Epoch 10, CIFAR-10 Batch 1:  Loss:     1.3889 Validation Accuracy: 0.537000\n",
      "Epoch 10, CIFAR-10 Batch 2:  Loss:     1.2263 Validation Accuracy: 0.543000\n",
      "Epoch 10, CIFAR-10 Batch 3:  Loss:     0.9997 Validation Accuracy: 0.533800\n",
      "Epoch 10, CIFAR-10 Batch 4:  Loss:     0.9692 Validation Accuracy: 0.576400\n",
      "Epoch 10, CIFAR-10 Batch 5:  Loss:     1.1718 Validation Accuracy: 0.552600\n",
      "Epoch 11, CIFAR-10 Batch 1:  Loss:     1.2813 Validation Accuracy: 0.565800\n",
      "Epoch 11, CIFAR-10 Batch 2:  Loss:     1.0492 Validation Accuracy: 0.566600\n",
      "Epoch 11, CIFAR-10 Batch 3:  Loss:     0.8157 Validation Accuracy: 0.579000\n",
      "Epoch 11, CIFAR-10 Batch 4:  Loss:     1.0271 Validation Accuracy: 0.572800\n",
      "Epoch 11, CIFAR-10 Batch 5:  Loss:     1.0703 Validation Accuracy: 0.564400\n",
      "Epoch 12, CIFAR-10 Batch 1:  Loss:     1.1821 Validation Accuracy: 0.584000\n",
      "Epoch 12, CIFAR-10 Batch 2:  Loss:     0.8502 Validation Accuracy: 0.603000\n",
      "Epoch 12, CIFAR-10 Batch 3:  Loss:     0.7051 Validation Accuracy: 0.591600\n",
      "Epoch 12, CIFAR-10 Batch 4:  Loss:     0.9334 Validation Accuracy: 0.594400\n",
      "Epoch 12, CIFAR-10 Batch 5:  Loss:     0.9086 Validation Accuracy: 0.602200\n",
      "Epoch 13, CIFAR-10 Batch 1:  Loss:     1.1084 Validation Accuracy: 0.607800\n",
      "Epoch 13, CIFAR-10 Batch 2:  Loss:     0.8205 Validation Accuracy: 0.614400\n",
      "Epoch 13, CIFAR-10 Batch 3:  Loss:     0.6852 Validation Accuracy: 0.609600\n",
      "Epoch 13, CIFAR-10 Batch 4:  Loss:     0.9239 Validation Accuracy: 0.582000\n",
      "Epoch 13, CIFAR-10 Batch 5:  Loss:     0.9084 Validation Accuracy: 0.608400\n",
      "Epoch 14, CIFAR-10 Batch 1:  Loss:     1.0056 Validation Accuracy: 0.610600\n",
      "Epoch 14, CIFAR-10 Batch 2:  Loss:     0.7650 Validation Accuracy: 0.630000\n",
      "Epoch 14, CIFAR-10 Batch 3:  Loss:     0.6184 Validation Accuracy: 0.629800\n",
      "Epoch 14, CIFAR-10 Batch 4:  Loss:     0.7582 Validation Accuracy: 0.615800\n",
      "Epoch 14, CIFAR-10 Batch 5:  Loss:     0.8149 Validation Accuracy: 0.635000\n",
      "Epoch 15, CIFAR-10 Batch 1:  Loss:     1.0008 Validation Accuracy: 0.623400\n",
      "Epoch 15, CIFAR-10 Batch 2:  Loss:     0.6661 Validation Accuracy: 0.646600\n",
      "Epoch 15, CIFAR-10 Batch 3:  Loss:     0.5311 Validation Accuracy: 0.633800\n",
      "Epoch 15, CIFAR-10 Batch 4:  Loss:     0.6946 Validation Accuracy: 0.628600\n",
      "Epoch 15, CIFAR-10 Batch 5:  Loss:     0.7831 Validation Accuracy: 0.644200\n",
      "Epoch 16, CIFAR-10 Batch 1:  Loss:     0.8798 Validation Accuracy: 0.646600\n",
      "Epoch 16, CIFAR-10 Batch 2:  Loss:     0.6598 Validation Accuracy: 0.650800\n",
      "Epoch 16, CIFAR-10 Batch 3:  Loss:     0.5424 Validation Accuracy: 0.649600\n",
      "Epoch 16, CIFAR-10 Batch 4:  Loss:     0.6424 Validation Accuracy: 0.638600\n",
      "Epoch 16, CIFAR-10 Batch 5:  Loss:     0.6071 Validation Accuracy: 0.662400\n",
      "Epoch 17, CIFAR-10 Batch 1:  Loss:     0.8232 Validation Accuracy: 0.667200\n",
      "Epoch 17, CIFAR-10 Batch 2:  Loss:     0.5787 Validation Accuracy: 0.662000\n",
      "Epoch 17, CIFAR-10 Batch 3:  Loss:     0.4307 Validation Accuracy: 0.665800\n",
      "Epoch 17, CIFAR-10 Batch 4:  Loss:     0.5393 Validation Accuracy: 0.663800\n",
      "Epoch 17, CIFAR-10 Batch 5:  Loss:     0.5149 Validation Accuracy: 0.664000\n",
      "Epoch 18, CIFAR-10 Batch 1:  Loss:     0.7337 Validation Accuracy: 0.672200\n",
      "Epoch 18, CIFAR-10 Batch 2:  Loss:     0.5511 Validation Accuracy: 0.655000\n",
      "Epoch 18, CIFAR-10 Batch 3:  Loss:     0.3846 Validation Accuracy: 0.671000\n",
      "Epoch 18, CIFAR-10 Batch 4:  Loss:     0.5069 Validation Accuracy: 0.659000\n",
      "Epoch 18, CIFAR-10 Batch 5:  Loss:     0.4489 Validation Accuracy: 0.677000\n",
      "Epoch 19, CIFAR-10 Batch 1:  Loss:     0.6623 Validation Accuracy: 0.685000\n",
      "Epoch 19, CIFAR-10 Batch 2:  Loss:     0.4447 Validation Accuracy: 0.673200\n",
      "Epoch 19, CIFAR-10 Batch 3:  Loss:     0.3445 Validation Accuracy: 0.679200\n",
      "Epoch 19, CIFAR-10 Batch 4:  Loss:     0.4483 Validation Accuracy: 0.673200\n",
      "Epoch 19, CIFAR-10 Batch 5:  Loss:     0.4194 Validation Accuracy: 0.664400\n",
      "Epoch 20, CIFAR-10 Batch 1:  Loss:     0.6007 Validation Accuracy: 0.687400\n",
      "Epoch 20, CIFAR-10 Batch 2:  Loss:     0.4057 Validation Accuracy: 0.674800\n",
      "Epoch 20, CIFAR-10 Batch 3:  Loss:     0.3124 Validation Accuracy: 0.684000\n",
      "Epoch 20, CIFAR-10 Batch 4:  Loss:     0.4096 Validation Accuracy: 0.682400\n",
      "Epoch 20, CIFAR-10 Batch 5:  Loss:     0.3514 Validation Accuracy: 0.688600\n",
      "Epoch 21, CIFAR-10 Batch 1:  Loss:     0.5389 Validation Accuracy: 0.682800\n",
      "Epoch 21, CIFAR-10 Batch 2:  Loss:     0.3785 Validation Accuracy: 0.693400\n",
      "Epoch 21, CIFAR-10 Batch 3:  Loss:     0.2742 Validation Accuracy: 0.698800\n",
      "Epoch 21, CIFAR-10 Batch 4:  Loss:     0.3819 Validation Accuracy: 0.681000\n",
      "Epoch 21, CIFAR-10 Batch 5:  Loss:     0.2995 Validation Accuracy: 0.694200\n",
      "Epoch 22, CIFAR-10 Batch 1:  Loss:     0.4944 Validation Accuracy: 0.694600\n",
      "Epoch 22, CIFAR-10 Batch 2:  Loss:     0.2849 Validation Accuracy: 0.688600\n",
      "Epoch 22, CIFAR-10 Batch 3:  Loss:     0.2479 Validation Accuracy: 0.699200\n",
      "Epoch 22, CIFAR-10 Batch 4:  Loss:     0.3045 Validation Accuracy: 0.692000\n",
      "Epoch 22, CIFAR-10 Batch 5:  Loss:     0.2248 Validation Accuracy: 0.712600\n",
      "Epoch 23, CIFAR-10 Batch 1:  Loss:     0.3981 Validation Accuracy: 0.698200\n",
      "Epoch 23, CIFAR-10 Batch 2:  Loss:     0.2571 Validation Accuracy: 0.694600\n",
      "Epoch 23, CIFAR-10 Batch 3:  Loss:     0.1701 Validation Accuracy: 0.694200\n",
      "Epoch 23, CIFAR-10 Batch 4:  Loss:     0.2126 Validation Accuracy: 0.692200\n",
      "Epoch 23, CIFAR-10 Batch 5:  Loss:     0.2587 Validation Accuracy: 0.702600\n",
      "Epoch 24, CIFAR-10 Batch 1:  Loss:     0.3664 Validation Accuracy: 0.695600\n",
      "Epoch 24, CIFAR-10 Batch 2:  Loss:     0.2649 Validation Accuracy: 0.683800\n",
      "Epoch 24, CIFAR-10 Batch 3:  Loss:     0.1917 Validation Accuracy: 0.711200\n",
      "Epoch 24, CIFAR-10 Batch 4:  Loss:     0.2318 Validation Accuracy: 0.690200\n",
      "Epoch 24, CIFAR-10 Batch 5:  Loss:     0.2206 Validation Accuracy: 0.709800\n",
      "Epoch 25, CIFAR-10 Batch 1:  Loss:     0.2778 Validation Accuracy: 0.698800\n",
      "Epoch 25, CIFAR-10 Batch 2:  Loss:     0.2214 Validation Accuracy: 0.692200\n",
      "Epoch 25, CIFAR-10 Batch 3:  Loss:     0.1641 Validation Accuracy: 0.691200\n",
      "Epoch 25, CIFAR-10 Batch 4:  Loss:     0.2135 Validation Accuracy: 0.697200\n",
      "Epoch 25, CIFAR-10 Batch 5:  Loss:     0.1878 Validation Accuracy: 0.710800\n",
      "Epoch 26, CIFAR-10 Batch 1:  Loss:     0.2588 Validation Accuracy: 0.705200\n",
      "Epoch 26, CIFAR-10 Batch 2:  Loss:     0.1999 Validation Accuracy: 0.692000\n",
      "Epoch 26, CIFAR-10 Batch 3:  Loss:     0.1567 Validation Accuracy: 0.702400\n",
      "Epoch 26, CIFAR-10 Batch 4:  Loss:     0.1755 Validation Accuracy: 0.704800\n",
      "Epoch 26, CIFAR-10 Batch 5:  Loss:     0.1846 Validation Accuracy: 0.703800\n",
      "Epoch 27, CIFAR-10 Batch 1:  Loss:     0.2125 Validation Accuracy: 0.704000\n",
      "Epoch 27, CIFAR-10 Batch 2:  Loss:     0.1459 Validation Accuracy: 0.694400\n",
      "Epoch 27, CIFAR-10 Batch 3:  Loss:     0.0988 Validation Accuracy: 0.699000\n",
      "Epoch 27, CIFAR-10 Batch 4:  Loss:     0.1056 Validation Accuracy: 0.716000\n",
      "Epoch 27, CIFAR-10 Batch 5:  Loss:     0.1425 Validation Accuracy: 0.708400\n",
      "Epoch 28, CIFAR-10 Batch 1:  Loss:     0.2432 Validation Accuracy: 0.705800\n",
      "Epoch 28, CIFAR-10 Batch 2:  Loss:     0.1316 Validation Accuracy: 0.703400\n",
      "Epoch 28, CIFAR-10 Batch 3:  Loss:     0.0982 Validation Accuracy: 0.693400\n",
      "Epoch 28, CIFAR-10 Batch 4:  Loss:     0.1597 Validation Accuracy: 0.689400\n",
      "Epoch 28, CIFAR-10 Batch 5:  Loss:     0.1443 Validation Accuracy: 0.704200\n",
      "Epoch 29, CIFAR-10 Batch 1:  Loss:     0.2470 Validation Accuracy: 0.705600\n",
      "Epoch 29, CIFAR-10 Batch 2:  Loss:     0.1945 Validation Accuracy: 0.703800\n",
      "Epoch 29, CIFAR-10 Batch 3:  Loss:     0.0459 Validation Accuracy: 0.709800\n",
      "Epoch 29, CIFAR-10 Batch 4:  Loss:     0.0746 Validation Accuracy: 0.710400\n",
      "Epoch 29, CIFAR-10 Batch 5:  Loss:     0.0782 Validation Accuracy: 0.717400\n",
      "Epoch 30, CIFAR-10 Batch 1:  Loss:     0.1963 Validation Accuracy: 0.704200\n",
      "Epoch 30, CIFAR-10 Batch 2:  Loss:     0.0553 Validation Accuracy: 0.698000\n",
      "Epoch 30, CIFAR-10 Batch 3:  Loss:     0.0256 Validation Accuracy: 0.702600\n",
      "Epoch 30, CIFAR-10 Batch 4:  Loss:     0.0756 Validation Accuracy: 0.716200\n",
      "Epoch 30, CIFAR-10 Batch 5:  Loss:     0.1224 Validation Accuracy: 0.711600\n",
      "Epoch 31, CIFAR-10 Batch 1:  Loss:     0.2003 Validation Accuracy: 0.710600\n",
      "Epoch 31, CIFAR-10 Batch 2:  Loss:     0.0743 Validation Accuracy: 0.711400\n",
      "Epoch 31, CIFAR-10 Batch 3:  Loss:     0.0414 Validation Accuracy: 0.708200\n",
      "Epoch 31, CIFAR-10 Batch 4:  Loss:     0.0735 Validation Accuracy: 0.714000\n",
      "Epoch 31, CIFAR-10 Batch 5:  Loss:     0.0834 Validation Accuracy: 0.717400\n",
      "Epoch 32, CIFAR-10 Batch 1:  Loss:     0.1270 Validation Accuracy: 0.715400\n",
      "Epoch 32, CIFAR-10 Batch 2:  Loss:     0.0647 Validation Accuracy: 0.714000\n",
      "Epoch 32, CIFAR-10 Batch 3:  Loss:     0.0330 Validation Accuracy: 0.709000\n",
      "Epoch 32, CIFAR-10 Batch 4:  Loss:     0.0507 Validation Accuracy: 0.718600\n",
      "Epoch 32, CIFAR-10 Batch 5:  Loss:     0.0416 Validation Accuracy: 0.717400\n",
      "Epoch 33, CIFAR-10 Batch 1:  Loss:     0.1221 Validation Accuracy: 0.708400\n",
      "Epoch 33, CIFAR-10 Batch 2:  Loss:     0.0282 Validation Accuracy: 0.706200\n",
      "Epoch 33, CIFAR-10 Batch 3:  Loss:     0.0435 Validation Accuracy: 0.711400\n",
      "Epoch 33, CIFAR-10 Batch 4:  Loss:     0.0315 Validation Accuracy: 0.714800\n",
      "Epoch 33, CIFAR-10 Batch 5:  Loss:     0.0645 Validation Accuracy: 0.709800\n",
      "Epoch 34, CIFAR-10 Batch 1:  Loss:     0.1034 Validation Accuracy: 0.718200\n",
      "Epoch 34, CIFAR-10 Batch 2:  Loss:     0.0222 Validation Accuracy: 0.715400\n",
      "Epoch 34, CIFAR-10 Batch 3:  Loss:     0.0130 Validation Accuracy: 0.714800\n",
      "Epoch 34, CIFAR-10 Batch 4:  Loss:     0.0417 Validation Accuracy: 0.711400\n",
      "Epoch 34, CIFAR-10 Batch 5:  Loss:     0.0672 Validation Accuracy: 0.706600\n",
      "Epoch 35, CIFAR-10 Batch 1:  Loss:     0.0945 Validation Accuracy: 0.707400\n",
      "Epoch 35, CIFAR-10 Batch 2:  Loss:     0.0556 Validation Accuracy: 0.710000\n",
      "Epoch 35, CIFAR-10 Batch 3:  Loss:     0.0437 Validation Accuracy: 0.715600\n",
      "Epoch 35, CIFAR-10 Batch 4:  Loss:     0.0294 Validation Accuracy: 0.713200\n",
      "Epoch 35, CIFAR-10 Batch 5:  Loss:     0.0705 Validation Accuracy: 0.710400\n",
      "Epoch 36, CIFAR-10 Batch 1:  Loss:     0.0852 Validation Accuracy: 0.693800\n",
      "Epoch 36, CIFAR-10 Batch 2:  Loss:     0.0220 Validation Accuracy: 0.715400\n",
      "Epoch 36, CIFAR-10 Batch 3:  Loss:     0.0198 Validation Accuracy: 0.713800\n",
      "Epoch 36, CIFAR-10 Batch 4:  Loss:     0.0338 Validation Accuracy: 0.710800\n",
      "Epoch 36, CIFAR-10 Batch 5:  Loss:     0.0252 Validation Accuracy: 0.709600\n",
      "Epoch 37, CIFAR-10 Batch 1:  Loss:     0.0660 Validation Accuracy: 0.707800\n",
      "Epoch 37, CIFAR-10 Batch 2:  Loss:     0.0178 Validation Accuracy: 0.698000\n",
      "Epoch 37, CIFAR-10 Batch 3:  Loss:     0.0112 Validation Accuracy: 0.719000\n",
      "Epoch 37, CIFAR-10 Batch 4:  Loss:     0.0422 Validation Accuracy: 0.714000\n",
      "Epoch 37, CIFAR-10 Batch 5:  Loss:     0.0371 Validation Accuracy: 0.712200\n",
      "Epoch 38, CIFAR-10 Batch 1:  Loss:     0.0432 Validation Accuracy: 0.704600\n",
      "Epoch 38, CIFAR-10 Batch 2:  Loss:     0.0240 Validation Accuracy: 0.713400\n",
      "Epoch 38, CIFAR-10 Batch 3:  Loss:     0.0373 Validation Accuracy: 0.702000\n",
      "Epoch 38, CIFAR-10 Batch 4:  Loss:     0.0102 Validation Accuracy: 0.718400\n",
      "Epoch 38, CIFAR-10 Batch 5:  Loss:     0.0163 Validation Accuracy: 0.718200\n",
      "Epoch 39, CIFAR-10 Batch 1:  Loss:     0.1093 Validation Accuracy: 0.704400\n",
      "Epoch 39, CIFAR-10 Batch 2:  Loss:     0.0085 Validation Accuracy: 0.711800\n",
      "Epoch 39, CIFAR-10 Batch 3:  Loss:     0.0065 Validation Accuracy: 0.720800\n",
      "Epoch 39, CIFAR-10 Batch 4:  Loss:     0.0154 Validation Accuracy: 0.715800\n",
      "Epoch 39, CIFAR-10 Batch 5:  Loss:     0.0099 Validation Accuracy: 0.727200\n",
      "Epoch 40, CIFAR-10 Batch 1:  Loss:     0.0777 Validation Accuracy: 0.714000\n",
      "Epoch 40, CIFAR-10 Batch 2:  Loss:     0.0040 Validation Accuracy: 0.717800\n",
      "Epoch 40, CIFAR-10 Batch 3:  Loss:     0.0049 Validation Accuracy: 0.728400\n",
      "Epoch 40, CIFAR-10 Batch 4:  Loss:     0.0205 Validation Accuracy: 0.715000\n",
      "Epoch 40, CIFAR-10 Batch 5:  Loss:     0.0129 Validation Accuracy: 0.711800\n",
      "Epoch 41, CIFAR-10 Batch 1:  Loss:     0.0244 Validation Accuracy: 0.716000\n",
      "Epoch 41, CIFAR-10 Batch 2:  Loss:     0.0063 Validation Accuracy: 0.716600\n",
      "Epoch 41, CIFAR-10 Batch 3:  Loss:     0.0066 Validation Accuracy: 0.723800\n",
      "Epoch 41, CIFAR-10 Batch 4:  Loss:     0.0330 Validation Accuracy: 0.710000\n",
      "Epoch 41, CIFAR-10 Batch 5:  Loss:     0.0276 Validation Accuracy: 0.713600\n",
      "Epoch 42, CIFAR-10 Batch 1:  Loss:     0.0050 Validation Accuracy: 0.712000\n",
      "Epoch 42, CIFAR-10 Batch 2:  Loss:     0.0077 Validation Accuracy: 0.714000\n",
      "Epoch 42, CIFAR-10 Batch 3:  Loss:     0.0125 Validation Accuracy: 0.721000\n",
      "Epoch 42, CIFAR-10 Batch 4:  Loss:     0.0183 Validation Accuracy: 0.711200\n",
      "Epoch 42, CIFAR-10 Batch 5:  Loss:     0.0170 Validation Accuracy: 0.716200\n",
      "Epoch 43, CIFAR-10 Batch 1:  Loss:     0.0038 Validation Accuracy: 0.717600\n",
      "Epoch 43, CIFAR-10 Batch 2:  Loss:     0.0072 Validation Accuracy: 0.703400\n",
      "Epoch 43, CIFAR-10 Batch 3:  Loss:     0.0099 Validation Accuracy: 0.720600\n",
      "Epoch 43, CIFAR-10 Batch 4:  Loss:     0.0046 Validation Accuracy: 0.713600\n",
      "Epoch 43, CIFAR-10 Batch 5:  Loss:     0.0112 Validation Accuracy: 0.722000\n",
      "Epoch 44, CIFAR-10 Batch 1:  Loss:     0.0040 Validation Accuracy: 0.714400\n",
      "Epoch 44, CIFAR-10 Batch 2:  Loss:     0.0033 Validation Accuracy: 0.716200\n",
      "Epoch 44, CIFAR-10 Batch 3:  Loss:     0.0096 Validation Accuracy: 0.724400\n",
      "Epoch 44, CIFAR-10 Batch 4:  Loss:     0.0043 Validation Accuracy: 0.713400\n",
      "Epoch 44, CIFAR-10 Batch 5:  Loss:     0.0092 Validation Accuracy: 0.709800\n",
      "Epoch 45, CIFAR-10 Batch 1:  Loss:     0.0033 Validation Accuracy: 0.720800\n",
      "Epoch 45, CIFAR-10 Batch 2:  Loss:     0.0073 Validation Accuracy: 0.723000\n",
      "Epoch 45, CIFAR-10 Batch 3:  Loss:     0.0046 Validation Accuracy: 0.731800\n",
      "Epoch 45, CIFAR-10 Batch 4:  Loss:     0.0139 Validation Accuracy: 0.709000\n",
      "Epoch 45, CIFAR-10 Batch 5:  Loss:     0.0095 Validation Accuracy: 0.710600\n",
      "Epoch 46, CIFAR-10 Batch 1:  Loss:     0.0035 Validation Accuracy: 0.719800\n",
      "Epoch 46, CIFAR-10 Batch 2:  Loss:     0.0155 Validation Accuracy: 0.716800\n",
      "Epoch 46, CIFAR-10 Batch 3:  Loss:     0.0062 Validation Accuracy: 0.722800\n",
      "Epoch 46, CIFAR-10 Batch 4:  Loss:     0.0314 Validation Accuracy: 0.719600\n",
      "Epoch 46, CIFAR-10 Batch 5:  Loss:     0.0072 Validation Accuracy: 0.718400\n",
      "Epoch 47, CIFAR-10 Batch 1:  Loss:     0.0024 Validation Accuracy: 0.718600\n",
      "Epoch 47, CIFAR-10 Batch 2:  Loss:     0.0381 Validation Accuracy: 0.719400\n",
      "Epoch 47, CIFAR-10 Batch 3:  Loss:     0.0028 Validation Accuracy: 0.719400\n",
      "Epoch 47, CIFAR-10 Batch 4:  Loss:     0.0103 Validation Accuracy: 0.711000\n",
      "Epoch 47, CIFAR-10 Batch 5:  Loss:     0.0019 Validation Accuracy: 0.720200\n",
      "Epoch 48, CIFAR-10 Batch 1:  Loss:     0.0098 Validation Accuracy: 0.713800\n",
      "Epoch 48, CIFAR-10 Batch 2:  Loss:     0.0072 Validation Accuracy: 0.716800\n",
      "Epoch 48, CIFAR-10 Batch 3:  Loss:     0.0091 Validation Accuracy: 0.723000\n",
      "Epoch 48, CIFAR-10 Batch 4:  Loss:     0.0126 Validation Accuracy: 0.716000\n",
      "Epoch 48, CIFAR-10 Batch 5:  Loss:     0.0037 Validation Accuracy: 0.718800\n",
      "Epoch 49, CIFAR-10 Batch 1:  Loss:     0.0036 Validation Accuracy: 0.718000\n",
      "Epoch 49, CIFAR-10 Batch 2:  Loss:     0.0049 Validation Accuracy: 0.713800\n",
      "Epoch 49, CIFAR-10 Batch 3:  Loss:     0.0020 Validation Accuracy: 0.723400\n",
      "Epoch 49, CIFAR-10 Batch 4:  Loss:     0.0166 Validation Accuracy: 0.719000\n",
      "Epoch 49, CIFAR-10 Batch 5:  Loss:     0.0016 Validation Accuracy: 0.710200\n",
      "Epoch 50, CIFAR-10 Batch 1:  Loss:     0.0024 Validation Accuracy: 0.706400\n",
      "Epoch 50, CIFAR-10 Batch 2:  Loss:     0.0026 Validation Accuracy: 0.721400\n",
      "Epoch 50, CIFAR-10 Batch 3:  Loss:     0.0012 Validation Accuracy: 0.724400\n",
      "Epoch 50, CIFAR-10 Batch 4:  Loss:     0.0160 Validation Accuracy: 0.723000\n",
      "Epoch 50, CIFAR-10 Batch 5:  Loss:     0.0064 Validation Accuracy: 0.722600\n"
     ]
    }
   ],
   "source": [
    "\"\"\"\n",
    "DON'T MODIFY ANYTHING IN THIS CELL\n",
    "\"\"\"\n",
    "save_model_path = './image_classification'\n",
    "\n",
    "print('Training...')\n",
    "with tf.Session() as sess:\n",
    "    # Initializing the variables\n",
    "    sess.run(tf.global_variables_initializer())\n",
    "    \n",
    "    # Training cycle\n",
    "    for epoch in range(epochs):\n",
    "        # Loop over all batches\n",
    "        n_batches = 5\n",
    "        for batch_i in range(1, n_batches + 1):\n",
    "            for batch_features, batch_labels in helper.load_preprocess_training_batch(batch_i, batch_size):\n",
    "                train_neural_network(sess, optimizer, keep_probability, batch_features, batch_labels)\n",
    "            print('Epoch {:>2}, CIFAR-10 Batch {}:  '.format(epoch + 1, batch_i), end='')\n",
    "            print_stats(sess, batch_features, batch_labels, cost, accuracy)\n",
    "            \n",
    "    # Save Model\n",
    "    saver = tf.train.Saver()\n",
    "    save_path = saver.save(sess, save_model_path)"
   ]
  },
  {
   "cell_type": "markdown",
   "metadata": {
    "deletable": true,
    "editable": true
   },
   "source": [
    "# Checkpoint\n",
    "The model has been saved to disk.\n",
    "## Test Model\n",
    "Test your model against the test dataset.  This will be your final accuracy. You should have an accuracy greater than 50%. If you don't, keep tweaking the model architecture and parameters."
   ]
  },
  {
   "cell_type": "code",
   "execution_count": 20,
   "metadata": {
    "collapsed": false,
    "deletable": true,
    "editable": true
   },
   "outputs": [
    {
     "name": "stdout",
     "output_type": "stream",
     "text": [
      "Testing Accuracy: 0.7203322784810127\n",
      "\n"
     ]
    },
    {
     "data": {
      "image/png": "[encoded data removed]",
      "text/plain": [
       "<matplotlib.figure.Figure at 0x7fddba2373c8>"
      ]
     },
     "metadata": {
      "image/png": {
       "height": 319,
       "width": 355
      }
     },
     "output_type": "display_data"
    }
   ],
   "source": [
    "\"\"\"\n",
    "DON'T MODIFY ANYTHING IN THIS CELL\n",
    "\"\"\"\n",
    "%matplotlib inline\n",
    "%config InlineBackend.figure_format = 'retina'\n",
    "\n",
    "import tensorflow as tf\n",
    "import pickle\n",
    "import helper\n",
    "import random\n",
    "\n",
    "# Set batch size if not already set\n",
    "try:\n",
    "    if batch_size:\n",
    "        pass\n",
    "except NameError:\n",
    "    batch_size = 64\n",
    "\n",
    "save_model_path = './image_classification'\n",
    "n_samples = 4\n",
    "top_n_predictions = 3\n",
    "\n",
    "def test_model():\n",
    "    \"\"\"\n",
    "    Test the saved model against the test dataset\n",
    "    \"\"\"\n",
    "\n",
    "    test_features, test_labels = pickle.load(open('preprocess_training.p', mode='rb'))\n",
    "    loaded_graph = tf.Graph()\n",
    "\n",
    "    with tf.Session(graph=loaded_graph) as sess:\n",
    "        # Load model\n",
    "        loader = tf.train.import_meta_graph(save_model_path + '.meta')\n",
    "        loader.restore(sess, save_model_path)\n",
    "\n",
    "        # Get Tensors from loaded model\n",
    "        loaded_x = loaded_graph.get_tensor_by_name('x:0')\n",
    "        loaded_y = loaded_graph.get_tensor_by_name('y:0')\n",
    "        loaded_keep_prob = loaded_graph.get_tensor_by_name('keep_prob:0')\n",
    "        loaded_logits = loaded_graph.get_tensor_by_name('logits:0')\n",
    "        loaded_acc = loaded_graph.get_tensor_by_name('accuracy:0')\n",
    "        \n",
    "        # Get accuracy in batches for memory limitations\n",
    "        test_batch_acc_total = 0\n",
    "        test_batch_count = 0\n",
    "        \n",
    "        for train_feature_batch, train_label_batch in helper.batch_features_labels(test_features, test_labels, batch_size):\n",
    "            test_batch_acc_total += sess.run(\n",
    "                loaded_acc,\n",
    "                feed_dict={loaded_x: train_feature_batch, loaded_y: train_label_batch, loaded_keep_prob: 1.0})\n",
    "            test_batch_count += 1\n",
    "\n",
    "        print('Testing Accuracy: {}\\n'.format(test_batch_acc_total/test_batch_count))\n",
    "\n",
    "        # Print Random Samples\n",
    "        random_test_features, random_test_labels = tuple(zip(*random.sample(list(zip(test_features, test_labels)), n_samples)))\n",
    "        random_test_predictions = sess.run(\n",
    "            tf.nn.top_k(tf.nn.softmax(loaded_logits), top_n_predictions),\n",
    "            feed_dict={loaded_x: random_test_features, loaded_y: random_test_labels, loaded_keep_prob: 1.0})\n",
    "        helper.display_image_predictions(random_test_features, random_test_labels, random_test_predictions)\n",
    "\n",
    "\n",
    "test_model()"
   ]
  },
  {
   "cell_type": "markdown",
   "metadata": {
    "deletable": true,
    "editable": true
   },
   "source": [
    "## Why 50-80% Accuracy?\n",
    "You might be wondering why you can't get an accuracy any higher. First things first, 50% isn't bad for a simple CNN.  Pure guessing would get you 10% accuracy. That's because there are many more techniques that can be applied to your model and we recemmond that once you are done with this project, you explore!\n",
    "\n",
    "## Submitting This Project\n",
    "When submitting this project, make sure to run all the cells before saving the notebook.  Save the notebook file as \"image_classification.ipynb\" and save it as a HTML file under \"File\" -> \"Download as\".  Include the \"helper.py\" and \"problem_unittests.py\" files in your submission."
   ]
  }
 ],
 "metadata": {
  "kernelspec": {
   "display_name": "Python 3",
   "language": "python",
   "name": "python3"
  },
  "language_info": {
   "codemirror_mode": {
    "name": "ipython",
    "version": 3
   },
   "file_extension": ".py",
   "mimetype": "text/x-python",
   "name": "python",
   "nbconvert_exporter": "python",
   "pygments_lexer": "ipython3",
   "version": "3.5.3"
  }
 },
 "nbformat": 4,
 "nbformat_minor": 0
}
