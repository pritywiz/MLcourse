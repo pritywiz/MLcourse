{
 "cells": [
  {
   "cell_type": "markdown",
   "metadata": {
    "collapsed": true,
    "deletable": true,
    "editable": true
   },
   "source": [
    "# Image Classification\n",
    "In this project, you'll classify images from the [CIFAR-10 dataset](https://www.cs.toronto.edu/~kriz/cifar.html).  The dataset consists of airplanes, dogs, cats, and other objects. You'll preprocess the images, then train a convolutional neural network on all the samples. The images need to be normalized and the labels need to be one-hot encoded.  You'll get to apply what you learned and build a convolutional, max pooling, dropout, and fully connected layers.  At the end, you'll get to see your neural network's predictions on the sample images.\n",
    "## Get the Data\n",
    "Run the following cell to download the [CIFAR-10 dataset for python](https://www.cs.toronto.edu/~kriz/cifar-10-python.tar.gz)."
   ]
  },
  {
   "cell_type": "code",
   "execution_count": 1,
   "metadata": {
    "collapsed": false,
    "deletable": true,
    "editable": true
   },
   "outputs": [
    {
     "name": "stdout",
     "output_type": "stream",
     "text": [
      "All files found!\n"
     ]
    }
   ],
   "source": [
    "\"\"\"\n",
    "DON'T MODIFY ANYTHING IN THIS CELL THAT IS BELOW THIS LINE\n",
    "\"\"\"\n",
    "from urllib.request import urlretrieve\n",
    "from os.path import isfile, isdir\n",
    "from tqdm import tqdm\n",
    "import problem_unittests as tests\n",
    "import tarfile\n",
    "\n",
    "cifar10_dataset_folder_path = 'cifar-10-batches-py'\n",
    "\n",
    "# Use Floyd's cifar-10 dataset if present\n",
    "floyd_cifar10_location = '/input/cifar-10/python.tar.gz'\n",
    "if isfile(floyd_cifar10_location):\n",
    "    tar_gz_path = floyd_cifar10_location\n",
    "else:\n",
    "    tar_gz_path = 'cifar-10-python.tar.gz'\n",
    "    \n",
    "class DLProgress(tqdm):\n",
    "    last_block = 0\n",
    "\n",
    "    def hook(self, block_num=1, block_size=1, total_size=None):\n",
    "        self.total = total_size\n",
    "        self.update((block_num - self.last_block) * block_size)\n",
    "        self.last_block = block_num\n",
    "\n",
    "if not isfile(tar_gz_path):\n",
    "    with DLProgress(unit='B', unit_scale=True, miniters=1, desc='CIFAR-10 Dataset') as pbar:\n",
    "        urlretrieve(\n",
    "            'https://www.cs.toronto.edu/~kriz/cifar-10-python.tar.gz',\n",
    "            tar_gz_path,\n",
    "            pbar.hook)\n",
    "\n",
    "if not isdir(cifar10_dataset_folder_path):\n",
    "    with tarfile.open(tar_gz_path) as tar:\n",
    "        tar.extractall()\n",
    "        tar.close()\n",
    "\n",
    "\n",
    "tests.test_folder_path(cifar10_dataset_folder_path)"
   ]
  },
  {
   "cell_type": "markdown",
   "metadata": {
    "deletable": true,
    "editable": true
   },
   "source": [
    "## Explore the Data\n",
    "The dataset is broken into batches to prevent your machine from running out of memory.  The CIFAR-10 dataset consists of 5 batches, named `data_batch_1`, `data_batch_2`, etc.. Each batch contains the labels and images that are one of the following:\n",
    "* airplane\n",
    "* automobile\n",
    "* bird\n",
    "* cat\n",
    "* deer\n",
    "* dog\n",
    "* frog\n",
    "* horse\n",
    "* ship\n",
    "* truck\n",
    "\n",
    "Understanding a dataset is part of making predictions on the data.  Play around with the code cell below by changing the `batch_id` and `sample_id`. The `batch_id` is the id for a batch (1-5). The `sample_id` is the id for a image and label pair in the batch.\n",
    "\n",
    "Ask yourself \"What are all possible labels?\", \"What is the range of values for the image data?\", \"Are the labels in order or random?\".  Answers to questions like these will help you preprocess the data and end up with better predictions."
   ]
  },
  {
   "cell_type": "code",
   "execution_count": 2,
   "metadata": {
    "collapsed": false,
    "deletable": true,
    "editable": true
   },
   "outputs": [
    {
     "name": "stdout",
     "output_type": "stream",
     "text": [
      "\n",
      "Stats of batch 1:\n",
      "Samples: 10000\n",
      "Label Counts: {0: 1005, 1: 974, 2: 1032, 3: 1016, 4: 999, 5: 937, 6: 1030, 7: 1001, 8: 1025, 9: 981}\n",
      "First 20 Labels: [6, 9, 9, 4, 1, 1, 2, 7, 8, 3, 4, 7, 7, 2, 9, 9, 9, 3, 2, 6]\n",
      "\n",
      "Example of Image 5:\n",
      "Image - Min Value: 0 Max Value: 252\n",
      "Image - Shape: (32, 32, 3)\n",
      "Label - Label Id: 1 Name: automobile\n"
     ]
    },
    {
     "data": {
      "image/png": "[encoded data removed]",
      "text/plain": [
       "<matplotlib.figure.Figure at 0x7f7e8bfad940>"
      ]
     },
     "metadata": {
      "image/png": {
       "height": 250,
       "width": 253
      }
     },
     "output_type": "display_data"
    }
   ],
   "source": [
    "%matplotlib inline\n",
    "%config InlineBackend.figure_format = 'retina'\n",
    "\n",
    "import helper\n",
    "import numpy as np\n",
    "\n",
    "# Explore the dataset\n",
    "batch_id = 1\n",
    "sample_id = 5\n",
    "helper.display_stats(cifar10_dataset_folder_path, batch_id, sample_id)"
   ]
  },
  {
   "cell_type": "code",
   "execution_count": 3,
   "metadata": {
    "collapsed": false,
    "deletable": true,
    "editable": true
   },
   "outputs": [
    {
     "name": "stdout",
     "output_type": "stream",
     "text": [
      "\n",
      "Stats of batch 2:\n",
      "Samples: 10000\n",
      "Label Counts: {0: 984, 1: 1007, 2: 1010, 3: 995, 4: 1010, 5: 988, 6: 1008, 7: 1026, 8: 987, 9: 985}\n",
      "First 20 Labels: [1, 6, 6, 8, 8, 3, 4, 6, 0, 6, 0, 3, 6, 6, 5, 4, 8, 3, 2, 6]\n",
      "\n",
      "Example of Image 5:\n",
      "Image - Min Value: 3 Max Value: 219\n",
      "Image - Shape: (32, 32, 3)\n",
      "Label - Label Id: 3 Name: cat\n"
     ]
    },
    {
     "data": {
      "image/png": "[encoded data removed]",
      "text/plain": [
       "<matplotlib.figure.Figure at 0x7f7ed46d0d68>"
      ]
     },
     "metadata": {
      "image/png": {
       "height": 250,
       "width": 253
      }
     },
     "output_type": "display_data"
    }
   ],
   "source": [
    "batch_id = 2\n",
    "sample_id = 5\n",
    "helper.display_stats(cifar10_dataset_folder_path, batch_id, sample_id)"
   ]
  },
  {
   "cell_type": "code",
   "execution_count": 4,
   "metadata": {
    "collapsed": false,
    "deletable": true,
    "editable": true
   },
   "outputs": [
    {
     "name": "stdout",
     "output_type": "stream",
     "text": [
      "\n",
      "Stats of batch 3:\n",
      "Samples: 10000\n",
      "Label Counts: {0: 994, 1: 1042, 2: 965, 3: 997, 4: 990, 5: 1029, 6: 978, 7: 1015, 8: 961, 9: 1029}\n",
      "First 20 Labels: [8, 5, 0, 6, 9, 2, 8, 3, 6, 2, 7, 4, 6, 9, 0, 0, 7, 3, 7, 2]\n",
      "\n",
      "Example of Image 1:\n",
      "Image - Min Value: 15 Max Value: 249\n",
      "Image - Shape: (32, 32, 3)\n",
      "Label - Label Id: 5 Name: dog\n"
     ]
    },
    {
     "data": {
      "image/png": "[encoded data removed]",
      "text/plain": [
       "<matplotlib.figure.Figure at 0x7f7e7ff652b0>"
      ]
     },
     "metadata": {
      "image/png": {
       "height": 250,
       "width": 253
      }
     },
     "output_type": "display_data"
    }
   ],
   "source": [
    "batch_id = 3\n",
    "sample_id = 1\n",
    "helper.display_stats(cifar10_dataset_folder_path, batch_id, sample_id)"
   ]
  },
  {
   "cell_type": "markdown",
   "metadata": {
    "deletable": true,
    "editable": true
   },
   "source": [
    "## Implement Preprocess Functions\n",
    "### Normalize\n",
    "In the cell below, implement the `normalize` function to take in image data, `x`, and return it as a normalized Numpy array. The values should be in the range of 0 to 1, inclusive.  The return object should be the same shape as `x`."
   ]
  },
  {
   "cell_type": "code",
   "execution_count": 5,
   "metadata": {
    "collapsed": false,
    "deletable": true,
    "editable": true
   },
   "outputs": [
    {
     "name": "stdout",
     "output_type": "stream",
     "text": [
      "Tests Passed\n"
     ]
    }
   ],
   "source": [
    "def normalize(x):\n",
    "    \"\"\"\n",
    "    Normalize a list of sample image data in the range of 0 to 1\n",
    "    : x: List of image data.  The image shape is (32, 32, 3)\n",
    "    : return: Numpy array of normalize data\n",
    "    \"\"\"\n",
    "    # TODO: Implement Function\n",
    "    a= 0.1\n",
    "    b= 0.9\n",
    "    x_min = 0.0\n",
    "    x_max = 255.0\n",
    "    x_norm = (a + ((x-x_min) * (b-a)/(x_max-x_min)))\n",
    "    return x_norm\n",
    "\n",
    "\n",
    "\"\"\"\n",
    "DON'T MODIFY ANYTHING IN THIS CELL THAT IS BELOW THIS LINE\n",
    "\"\"\"\n",
    "tests.test_normalize(normalize)"
   ]
  },
  {
   "cell_type": "markdown",
   "metadata": {
    "deletable": true,
    "editable": true
   },
   "source": [
    "### One-hot encode\n",
    "Just like the previous code cell, you'll be implementing a function for preprocessing.  This time, you'll implement the `one_hot_encode` function. The input, `x`, are a list of labels.  Implement the function to return the list of labels as One-Hot encoded Numpy array.  The possible values for labels are 0 to 9. The one-hot encoding function should return the same encoding for each value between each call to `one_hot_encode`.  Make sure to save the map of encodings outside the function.\n",
    "\n",
    "**Hint:**\n",
    "\n",
    "Look into LabelBinarizer in the preprocessing module of sklearn."
   ]
  },
  {
   "cell_type": "code",
   "execution_count": 6,
   "metadata": {
    "collapsed": false,
    "deletable": true,
    "editable": true
   },
   "outputs": [
    {
     "name": "stdout",
     "output_type": "stream",
     "text": [
      "Tests Passed\n"
     ]
    }
   ],
   "source": [
    "from sklearn import preprocessing\n",
    "\n",
    "\n",
    "def one_hot_encode(x):\n",
    "    \"\"\"\n",
    "    One hot encode a list of sample labels. Return a one-hot encoded vector for each label.\n",
    "    : x: List of sample Labels\n",
    "    : return: Numpy array of one-hot encoded labels\n",
    "    \"\"\"\n",
    "    # TODO: Implement Function\n",
    "    lb = preprocessing.LabelBinarizer()\n",
    "    lb.fit(range(10)) #as the labels are 0 to 9, so we encode it and use it as a map array\n",
    "    return lb.transform(x)\n",
    "\n",
    "\n",
    "\"\"\"\n",
    "DON'T MODIFY ANYTHING IN THIS CELL THAT IS BELOW THIS LINE\n",
    "\"\"\"\n",
    "tests.test_one_hot_encode(one_hot_encode)"
   ]
  },
  {
   "cell_type": "markdown",
   "metadata": {
    "deletable": true,
    "editable": true
   },
   "source": [
    "### Randomize Data\n",
    "As you saw from exploring the data above, the order of the samples are randomized.  It doesn't hurt to randomize it again, but you don't need to for this dataset."
   ]
  },
  {
   "cell_type": "markdown",
   "metadata": {
    "deletable": true,
    "editable": true
   },
   "source": [
    "## Preprocess all the data and save it\n",
    "Running the code cell below will preprocess all the CIFAR-10 data and save it to file. The code below also uses 10% of the training data for validation."
   ]
  },
  {
   "cell_type": "code",
   "execution_count": 7,
   "metadata": {
    "collapsed": false,
    "deletable": true,
    "editable": true
   },
   "outputs": [],
   "source": [
    "\"\"\"\n",
    "DON'T MODIFY ANYTHING IN THIS CELL\n",
    "\"\"\"\n",
    "# Preprocess Training, Validation, and Testing Data\n",
    "helper.preprocess_and_save_data(cifar10_dataset_folder_path, normalize, one_hot_encode)"
   ]
  },
  {
   "cell_type": "markdown",
   "metadata": {
    "deletable": true,
    "editable": true
   },
   "source": [
    "# Check Point\n",
    "This is your first checkpoint.  If you ever decide to come back to this notebook or have to restart the notebook, you can start from here.  The preprocessed data has been saved to disk."
   ]
  },
  {
   "cell_type": "code",
   "execution_count": 8,
   "metadata": {
    "collapsed": true,
    "deletable": true,
    "editable": true
   },
   "outputs": [],
   "source": [
    "\"\"\"\n",
    "DON'T MODIFY ANYTHING IN THIS CELL\n",
    "\"\"\"\n",
    "import pickle\n",
    "import problem_unittests as tests\n",
    "import helper\n",
    "\n",
    "# Load the Preprocessed Validation data\n",
    "valid_features, valid_labels = pickle.load(open('preprocess_validation.p', mode='rb'))"
   ]
  },
  {
   "cell_type": "markdown",
   "metadata": {
    "deletable": true,
    "editable": true
   },
   "source": [
    "## Build the network\n",
    "For the neural network, you'll build each layer into a function.  Most of the code you've seen has been outside of functions. To test your code more thoroughly, we require that you put each layer in a function.  This allows us to give you better feedback and test for simple mistakes using our unittests before you submit your project.\n",
    "\n",
    ">**Note:** If you're finding it hard to dedicate enough time for this course each week, we've provided a small shortcut to this part of the project. In the next couple of problems, you'll have the option to use classes from the [TensorFlow Layers](https://www.tensorflow.org/api_docs/python/tf/layers) or [TensorFlow Layers (contrib)](https://www.tensorflow.org/api_guides/python/contrib.layers) packages to build each layer, except the layers you build in the \"Convolutional and Max Pooling Layer\" section.  TF Layers is similar to Keras's and TFLearn's abstraction to layers, so it's easy to pickup.\n",
    "\n",
    ">However, if you would like to get the most out of this course, try to solve all the problems _without_ using anything from the TF Layers packages. You **can** still use classes from other packages that happen to have the same name as ones you find in TF Layers! For example, instead of using the TF Layers version of the `conv2d` class, [tf.layers.conv2d](https://www.tensorflow.org/api_docs/python/tf/layers/conv2d), you would want to use the TF Neural Network version of `conv2d`, [tf.nn.conv2d](https://www.tensorflow.org/api_docs/python/tf/nn/conv2d). \n",
    "\n",
    "Let's begin!\n",
    "\n",
    "### Input\n",
    "The neural network needs to read the image data, one-hot encoded labels, and dropout keep probability. Implement the following functions\n",
    "* Implement `neural_net_image_input`\n",
    " * Return a [TF Placeholder](https://www.tensorflow.org/api_docs/python/tf/placeholder)\n",
    " * Set the shape using `image_shape` with batch size set to `None`.\n",
    " * Name the TensorFlow placeholder \"x\" using the TensorFlow `name` parameter in the [TF Placeholder](https://www.tensorflow.org/api_docs/python/tf/placeholder).\n",
    "* Implement `neural_net_label_input`\n",
    " * Return a [TF Placeholder](https://www.tensorflow.org/api_docs/python/tf/placeholder)\n",
    " * Set the shape using `n_classes` with batch size set to `None`.\n",
    " * Name the TensorFlow placeholder \"y\" using the TensorFlow `name` parameter in the [TF Placeholder](https://www.tensorflow.org/api_docs/python/tf/placeholder).\n",
    "* Implement `neural_net_keep_prob_input`\n",
    " * Return a [TF Placeholder](https://www.tensorflow.org/api_docs/python/tf/placeholder) for dropout keep probability.\n",
    " * Name the TensorFlow placeholder \"keep_prob\" using the TensorFlow `name` parameter in the [TF Placeholder](https://www.tensorflow.org/api_docs/python/tf/placeholder).\n",
    "\n",
    "These names will be used at the end of the project to load your saved model.\n",
    "\n",
    "Note: `None` for shapes in TensorFlow allow for a dynamic size."
   ]
  },
  {
   "cell_type": "code",
   "execution_count": 9,
   "metadata": {
    "collapsed": false,
    "deletable": true,
    "editable": true
   },
   "outputs": [
    {
     "name": "stdout",
     "output_type": "stream",
     "text": [
      "Image Input Tests Passed.\n",
      "Label Input Tests Passed.\n",
      "Keep Prob Tests Passed.\n"
     ]
    }
   ],
   "source": [
    "import tensorflow as tf\n",
    "\n",
    "def neural_net_image_input(image_shape):\n",
    "    \"\"\"\n",
    "    Return a Tensor for a batch of image input\n",
    "    : image_shape: Shape of the images\n",
    "    : return: Tensor for image input.\n",
    "    \"\"\"\n",
    "    # TODO: Implement Function\n",
    "    return tf.placeholder(tf.float32, shape=(None, *image_shape), name = 'x')\n",
    "\n",
    "\n",
    "def neural_net_label_input(n_classes):\n",
    "    \"\"\"\n",
    "    Return a Tensor for a batch of label input\n",
    "    : n_classes: Number of classes\n",
    "    : return: Tensor for label input.\n",
    "    \"\"\"\n",
    "    # TODO: Implement Function\n",
    "    return tf.placeholder(tf.float32, shape=(None, n_classes), name = 'y')\n",
    "\n",
    "\n",
    "def neural_net_keep_prob_input():\n",
    "    \"\"\"\n",
    "    Return a Tensor for keep probability\n",
    "    : return: Tensor for keep probability.\n",
    "    \"\"\"\n",
    "    # TODO: Implement Function\n",
    "    return tf.placeholder(tf.float32, name='keep_prob')\n",
    "\n",
    "\n",
    "\"\"\"\n",
    "DON'T MODIFY ANYTHING IN THIS CELL THAT IS BELOW THIS LINE\n",
    "\"\"\"\n",
    "tf.reset_default_graph()\n",
    "tests.test_nn_image_inputs(neural_net_image_input)\n",
    "tests.test_nn_label_inputs(neural_net_label_input)\n",
    "tests.test_nn_keep_prob_inputs(neural_net_keep_prob_input)"
   ]
  },
  {
   "cell_type": "markdown",
   "metadata": {
    "deletable": true,
    "editable": true
   },
   "source": [
    "### Convolution and Max Pooling Layer\n",
    "Convolution layers have a lot of success with images. For this code cell, you should implement the function `conv2d_maxpool` to apply convolution then max pooling:\n",
    "* Create the weight and bias using `conv_ksize`, `conv_num_outputs` and the shape of `x_tensor`.\n",
    "* Apply a convolution to `x_tensor` using weight and `conv_strides`.\n",
    " * We recommend you use same padding, but you're welcome to use any padding.\n",
    "* Add bias\n",
    "* Add a nonlinear activation to the convolution.\n",
    "* Apply Max Pooling using `pool_ksize` and `pool_strides`.\n",
    " * We recommend you use same padding, but you're welcome to use any padding.\n",
    "\n",
    "**Note:** You **can't** use [TensorFlow Layers](https://www.tensorflow.org/api_docs/python/tf/layers) or [TensorFlow Layers (contrib)](https://www.tensorflow.org/api_guides/python/contrib.layers) for **this** layer, but you can still use TensorFlow's [Neural Network](https://www.tensorflow.org/api_docs/python/tf/nn) package. You may still use the shortcut option for all the **other** layers.\n",
    "\n",
    "** Hint: **\n",
    "\n",
    "When unpacking values as an argument in Python, look into the [unpacking](https://docs.python.org/3/tutorial/controlflow.html#unpacking-argument-lists) operator. "
   ]
  },
  {
   "cell_type": "code",
   "execution_count": 54,
   "metadata": {
    "collapsed": false,
    "deletable": true,
    "editable": true
   },
   "outputs": [
    {
     "name": "stdout",
     "output_type": "stream",
     "text": [
      "Tests Passed\n"
     ]
    }
   ],
   "source": [
    "def conv2d_maxpool(x_tensor, conv_num_outputs, conv_ksize, conv_strides, pool_ksize, pool_strides):\n",
    "    \"\"\"\n",
    "    Apply convolution then max pooling to x_tensor\n",
    "    :param x_tensor: TensorFlow Tensor\n",
    "    :param conv_num_outputs: Number of outputs for the convolutional layer\n",
    "    :param conv_ksize: kernal size 2-D Tuple for the convolutional layer\n",
    "    :param conv_strides: Stride 2-D Tuple for convolution\n",
    "    :param pool_ksize: kernal size 2-D Tuple for pool\n",
    "    :param pool_strides: Stride 2-D Tuple for pool\n",
    "    : return: A tensor that represents convolution and max pooling of x_tensor\n",
    "    \"\"\"\n",
    "    # TODO: Implement Function\n",
    "    # Weight and bias\n",
    "    weight_shape = (*conv_ksize, x_tensor.get_shape().as_list()[3], conv_num_outputs)\n",
    "    initialize = np.sqrt(2.0/np.prod(weight_shape[:2]))\n",
    "    \n",
    "    #weight = tf.Variable(tf.random_uniform(weight_shape, minval=-initialize, maxval=initialize))\n",
    "    weight = tf.Variable(tf.truncated_normal(weight_shape, mean=0, stddev=initialize, dtype=tf.float32))\n",
    "    bias = tf.Variable(tf.zeros(conv_num_outputs))\n",
    "    \n",
    "    # Apply Convolution\n",
    "    conv_layer = tf.nn.conv2d(x_tensor, weight, strides=[1, *conv_strides, 1], padding='SAME')\n",
    "    \n",
    "    # Add bias\n",
    "    conv_layer = tf.nn.bias_add(conv_layer, bias)\n",
    "    \n",
    "    # Apply activation function\n",
    "    conv_layer = tf.nn.relu(conv_layer)\n",
    "    \n",
    "    weight_shape = (*conv_ksize, conv_layer.get_shape().as_list()[3], conv_num_outputs)\n",
    "    initialize = np.sqrt(2.0/np.prod(weight_shape[:2]))\n",
    "    \n",
    "    #weight = tf.Variable(tf.random_uniform(weight_shape, minval=-initialize, maxval=initialize))\n",
    "    weight1 = tf.Variable(tf.truncated_normal(weight_shape, mean=0, stddev=initialize, dtype=tf.float32))\n",
    "    bias1 = tf.Variable(tf.zeros(conv_num_outputs))\n",
    "    \n",
    "    # Apply Convolution\n",
    "    conv_layer = tf.nn.conv2d(conv_layer, weight, strides=[1, *conv_strides, 1], padding='SAME')\n",
    "    \n",
    "    # Add bias\n",
    "    conv_layer = tf.nn.bias_add(conv_layer, bias)\n",
    "    \n",
    "    # Apply activation function\n",
    "    conv_layer = tf.nn.relu(conv_layer)\n",
    "\n",
    "    # Apply Max Pooling\n",
    "    conv_layer = tf.nn.max_pool(conv_layer, ksize=[1, *pool_ksize, 1], strides=[1, *pool_strides, 1], padding='SAME')\n",
    "    \n",
    "    return conv_layer \n",
    "\n",
    "\n",
    "\"\"\"\n",
    "DON'T MODIFY ANYTHING IN THIS CELL THAT IS BELOW THIS LINE\n",
    "\"\"\"\n",
    "tests.test_con_pool(conv2d_maxpool)"
   ]
  },
  {
   "cell_type": "markdown",
   "metadata": {
    "deletable": true,
    "editable": true
   },
   "source": [
    "### Flatten Layer\n",
    "Implement the `flatten` function to change the dimension of `x_tensor` from a 4-D tensor to a 2-D tensor.  The output should be the shape (*Batch Size*, *Flattened Image Size*). Shortcut option: you can use classes from the [TensorFlow Layers](https://www.tensorflow.org/api_docs/python/tf/layers) or [TensorFlow Layers (contrib)](https://www.tensorflow.org/api_guides/python/contrib.layers) packages for this layer. For more of a challenge, only use other TensorFlow packages."
   ]
  },
  {
   "cell_type": "code",
   "execution_count": 11,
   "metadata": {
    "collapsed": false,
    "deletable": true,
    "editable": true
   },
   "outputs": [
    {
     "name": "stdout",
     "output_type": "stream",
     "text": [
      "Tests Passed\n"
     ]
    }
   ],
   "source": [
    "def flatten(x_tensor):\n",
    "    \"\"\"\n",
    "    Flatten x_tensor to (Batch Size, Flattened Image Size)\n",
    "    : x_tensor: A tensor of size (Batch Size, ...), where ... are the image dimensions.\n",
    "    : return: A tensor of size (Batch Size, Flattened Image Size).\n",
    "    \"\"\"\n",
    "    # TODO: Implement Function\n",
    "    shape = x_tensor.get_shape().as_list()\n",
    "    dimension_size = np.prod(shape[1:])\n",
    "    return tf.reshape(x_tensor, [-1, dimension_size])\n",
    "\n",
    "\n",
    "\"\"\"\n",
    "DON'T MODIFY ANYTHING IN THIS CELL THAT IS BELOW THIS LINE\n",
    "\"\"\"\n",
    "tests.test_flatten(flatten)"
   ]
  },
  {
   "cell_type": "markdown",
   "metadata": {
    "deletable": true,
    "editable": true
   },
   "source": [
    "### Fully-Connected Layer\n",
    "Implement the `fully_conn` function to apply a fully connected layer to `x_tensor` with the shape (*Batch Size*, *num_outputs*). Shortcut option: you can use classes from the [TensorFlow Layers](https://www.tensorflow.org/api_docs/python/tf/layers) or [TensorFlow Layers (contrib)](https://www.tensorflow.org/api_guides/python/contrib.layers) packages for this layer. For more of a challenge, only use other TensorFlow packages."
   ]
  },
  {
   "cell_type": "code",
   "execution_count": 12,
   "metadata": {
    "collapsed": false,
    "deletable": true,
    "editable": true
   },
   "outputs": [
    {
     "name": "stdout",
     "output_type": "stream",
     "text": [
      "Tests Passed\n"
     ]
    }
   ],
   "source": [
    "def fully_conn(x_tensor, num_outputs):\n",
    "    \"\"\"\n",
    "    Apply a fully connected layer to x_tensor using weight and bias\n",
    "    : x_tensor: A 2-D tensor where the first dimension is batch size.\n",
    "    : num_outputs: The number of output that the new tensor should be.\n",
    "    : return: A 2-D tensor where the second dimension is num_outputs.\n",
    "    \"\"\"\n",
    "    # TODO: Implement Function\n",
    "    num_input = x_tensor.get_shape().as_list()[1]\n",
    "\n",
    "    initialize = np.sqrt(2.0/num_input)\n",
    "\n",
    "    weight = tf.Variable(tf.truncated_normal((num_input, num_outputs), mean=0, stddev=initialize, dtype=tf.float32))\n",
    "    bias = tf.Variable(tf.zeros(num_outputs))\n",
    "    \n",
    "    # Logits - xW + b\n",
    "    logits = tf.add(tf.matmul(x_tensor, weight), bias)\n",
    "    \n",
    "    return tf.nn.relu(logits)\n",
    "\n",
    "\n",
    "\"\"\"\n",
    "DON'T MODIFY ANYTHING IN THIS CELL THAT IS BELOW THIS LINE\n",
    "\"\"\"\n",
    "tests.test_fully_conn(fully_conn)"
   ]
  },
  {
   "cell_type": "markdown",
   "metadata": {
    "deletable": true,
    "editable": true
   },
   "source": [
    "### Output Layer\n",
    "Implement the `output` function to apply a fully connected layer to `x_tensor` with the shape (*Batch Size*, *num_outputs*). Shortcut option: you can use classes from the [TensorFlow Layers](https://www.tensorflow.org/api_docs/python/tf/layers) or [TensorFlow Layers (contrib)](https://www.tensorflow.org/api_guides/python/contrib.layers) packages for this layer. For more of a challenge, only use other TensorFlow packages.\n",
    "\n",
    "**Note:** Activation, softmax, or cross entropy should **not** be applied to this."
   ]
  },
  {
   "cell_type": "code",
   "execution_count": 13,
   "metadata": {
    "collapsed": false,
    "deletable": true,
    "editable": true
   },
   "outputs": [
    {
     "name": "stdout",
     "output_type": "stream",
     "text": [
      "Tests Passed\n"
     ]
    }
   ],
   "source": [
    "def output(x_tensor, num_outputs):\n",
    "    \"\"\"\n",
    "    Apply a output layer to x_tensor using weight and bias\n",
    "    : x_tensor: A 2-D tensor where the first dimension is batch size.\n",
    "    : num_outputs: The number of output that the new tensor should be.\n",
    "    : return: A 2-D tensor where the second dimension is num_outputs.\n",
    "    \"\"\"\n",
    "    # TODO: Implement Function\n",
    "    num_input = x_tensor.get_shape().as_list()[1]\n",
    "    initialize = np.sqrt(num_input )\n",
    "\n",
    "    weight = tf.Variable(tf.truncated_normal((num_input, num_outputs), mean=0, stddev=1.0/initialize, dtype=tf.float32))\n",
    "    bias = tf.Variable(tf.zeros(num_outputs))\n",
    "    \n",
    "    # Logits - xW + b\n",
    "    logit = tf.add(tf.matmul(x_tensor, weight), bias)\n",
    "    return logit\n",
    "\n",
    "\n",
    "\"\"\"\n",
    "DON'T MODIFY ANYTHING IN THIS CELL THAT IS BELOW THIS LINE\n",
    "\"\"\"\n",
    "tests.test_output(output)"
   ]
  },
  {
   "cell_type": "markdown",
   "metadata": {
    "deletable": true,
    "editable": true
   },
   "source": [
    "### Create Convolutional Model\n",
    "Implement the function `conv_net` to create a convolutional neural network model. The function takes in a batch of images, `x`, and outputs logits.  Use the layers you created above to create this model:\n",
    "\n",
    "* Apply 1, 2, or 3 Convolution and Max Pool layers\n",
    "* Apply a Flatten Layer\n",
    "* Apply 1, 2, or 3 Fully Connected Layers\n",
    "* Apply an Output Layer\n",
    "* Return the output\n",
    "* Apply [TensorFlow's Dropout](https://www.tensorflow.org/api_docs/python/tf/nn/dropout) to one or more layers in the model using `keep_prob`. "
   ]
  },
  {
   "cell_type": "code",
   "execution_count": 55,
   "metadata": {
    "collapsed": false,
    "deletable": true,
    "editable": true
   },
   "outputs": [
    {
     "name": "stdout",
     "output_type": "stream",
     "text": [
      "Neural Network Built!\n"
     ]
    }
   ],
   "source": [
    "def conv_net(x, keep_prob):\n",
    "    \"\"\"\n",
    "    Create a convolutional neural network model\n",
    "    : x: Placeholder tensor that holds image data.\n",
    "    : keep_prob: Placeholder tensor that hold dropout keep probability.\n",
    "    : return: Tensor that represents logits\n",
    "    \"\"\"\n",
    "    ksize = 3\n",
    "    stride = 1\n",
    "    pksize = 2\n",
    "    pstride = 2\n",
    "    \n",
    "    \n",
    "    x = conv2d_maxpool(x, 48, (ksize, ksize), (stride, stride) , (pksize, pksize), (pstride, pstride))\n",
    "    x = conv2d_maxpool(x, 96, (ksize, ksize), (stride, stride) , (pksize, pksize), (pstride, pstride))\n",
    "    x = conv2d_maxpool(x, 192, (ksize, ksize), (stride, stride) , (pksize, pksize), (pstride, pstride))\n",
    "    x = tf.nn.dropout(x, keep_prob)\n",
    "    x = flatten(x)\n",
    "        \n",
    "    x = fully_conn(x, 1024)\n",
    "    x = fully_conn(x, 1024)\n",
    "    x = tf.nn.dropout(x, keep_prob)\n",
    "    \n",
    "    x = output(x, 10)\n",
    "    return x\n",
    "\n",
    "\n",
    "\"\"\"\n",
    "DON'T MODIFY ANYTHING IN THIS CELL THAT IS BELOW THIS LINE\n",
    "\"\"\"\n",
    "\n",
    "##############################\n",
    "## Build the Neural Network ##\n",
    "##############################\n",
    "\n",
    "# Remove previous weights, bias, inputs, etc..\n",
    "tf.reset_default_graph()\n",
    "\n",
    "# Inputs\n",
    "x = neural_net_image_input((32, 32, 3))\n",
    "y = neural_net_label_input(10)\n",
    "keep_prob = neural_net_keep_prob_input()\n",
    "\n",
    "# Model\n",
    "logits = conv_net(x, keep_prob)\n",
    "\n",
    "# Name logits Tensor, so that is can be loaded from disk after training\n",
    "logits = tf.identity(logits, name='logits')\n",
    "\n",
    "# Loss and Optimizer\n",
    "cost = tf.reduce_mean(tf.nn.softmax_cross_entropy_with_logits(logits=logits, labels=y))\n",
    "optimizer = tf.train.AdamOptimizer().minimize(cost)\n",
    "\n",
    "# Accuracy\n",
    "correct_pred = tf.equal(tf.argmax(logits, 1), tf.argmax(y, 1))\n",
    "accuracy = tf.reduce_mean(tf.cast(correct_pred, tf.float32), name='accuracy')\n",
    "\n",
    "tests.test_conv_net(conv_net)"
   ]
  },
  {
   "cell_type": "markdown",
   "metadata": {
    "deletable": true,
    "editable": true
   },
   "source": [
    "## Train the Neural Network\n",
    "### Single Optimization\n",
    "Implement the function `train_neural_network` to do a single optimization.  The optimization should use `optimizer` to optimize in `session` with a `feed_dict` of the following:\n",
    "* `x` for image input\n",
    "* `y` for labels\n",
    "* `keep_prob` for keep probability for dropout\n",
    "\n",
    "This function will be called for each batch, so `tf.global_variables_initializer()` has already been called.\n",
    "\n",
    "Note: Nothing needs to be returned. This function is only optimizing the neural network."
   ]
  },
  {
   "cell_type": "code",
   "execution_count": 15,
   "metadata": {
    "collapsed": false,
    "deletable": true,
    "editable": true
   },
   "outputs": [
    {
     "name": "stdout",
     "output_type": "stream",
     "text": [
      "Tests Passed\n"
     ]
    }
   ],
   "source": [
    "def train_neural_network(session, optimizer, keep_probability, feature_batch, label_batch):\n",
    "    \"\"\"\n",
    "    Optimize the session on a batch of images and labels\n",
    "    : session: Current TensorFlow session\n",
    "    : optimizer: TensorFlow optimizer function\n",
    "    : keep_probability: keep probability\n",
    "    : feature_batch: Batch of Numpy image data\n",
    "    : label_batch: Batch of Numpy label data\n",
    "    \"\"\"\n",
    "    # TODO: Implement Function\n",
    "    session.run(optimizer, feed_dict={\n",
    "                          x: feature_batch,\n",
    "                          y: label_batch,\n",
    "                          keep_prob: keep_probability})\n",
    "    pass\n",
    "\n",
    "\n",
    "\"\"\"\n",
    "DON'T MODIFY ANYTHING IN THIS CELL THAT IS BELOW THIS LINE\n",
    "\"\"\"\n",
    "tests.test_train_nn(train_neural_network)"
   ]
  },
  {
   "cell_type": "markdown",
   "metadata": {
    "deletable": true,
    "editable": true
   },
   "source": [
    "### Show Stats\n",
    "Implement the function `print_stats` to print loss and validation accuracy.  Use the global variables `valid_features` and `valid_labels` to calculate validation accuracy.  Use a keep probability of `1.0` to calculate the loss and validation accuracy."
   ]
  },
  {
   "cell_type": "code",
   "execution_count": 16,
   "metadata": {
    "collapsed": false,
    "deletable": true,
    "editable": true
   },
   "outputs": [],
   "source": [
    "def print_stats(session, feature_batch, label_batch, cost, accuracy):\n",
    "    \"\"\"\n",
    "    Print information about loss and validation accuracy\n",
    "    : session: Current TensorFlow session\n",
    "    : feature_batch: Batch of Numpy image data\n",
    "    : label_batch: Batch of Numpy label data\n",
    "    : cost: TensorFlow cost function\n",
    "    : accuracy: TensorFlow accuracy function\n",
    "    \"\"\"\n",
    "    # TODO: Implement Function\n",
    "    loss = sess.run(cost, feed_dict={\n",
    "                x: feature_batch,\n",
    "                y: label_batch,\n",
    "                keep_prob: 1.})\n",
    "    valid_acc = sess.run(accuracy, feed_dict={\n",
    "                x: valid_features,\n",
    "                y: valid_labels,\n",
    "                keep_prob: 1.})\n",
    "    print ('Loss: {:>10.4f} Validation Accuracy: {:.6f}'.format(\n",
    "                loss,\n",
    "                valid_acc))\n",
    "    pass"
   ]
  },
  {
   "cell_type": "markdown",
   "metadata": {
    "deletable": true,
    "editable": true
   },
   "source": [
    "### Hyperparameters\n",
    "Tune the following parameters:\n",
    "* Set `epochs` to the number of iterations until the network stops learning or start overfitting\n",
    "* Set `batch_size` to the highest number that your machine has memory for.  Most people set them to common sizes of memory:\n",
    " * 64\n",
    " * 128\n",
    " * 256\n",
    " * ...\n",
    "* Set `keep_probability` to the probability of keeping a node using dropout"
   ]
  },
  {
   "cell_type": "code",
   "execution_count": 61,
   "metadata": {
    "collapsed": true,
    "deletable": true,
    "editable": true
   },
   "outputs": [],
   "source": [
    "# TODO: Tune Parameters\n",
    "epochs = 100\n",
    "batch_size = 128\n",
    "keep_probability = 0.95"
   ]
  },
  {
   "cell_type": "markdown",
   "metadata": {
    "deletable": true,
    "editable": true
   },
   "source": [
    "### Train on a Single CIFAR-10 Batch\n",
    "Instead of training the neural network on all the CIFAR-10 batches of data, let's use a single batch. This should save time while you iterate on the model to get a better accuracy.  Once the final validation accuracy is 50% or greater, run the model on all the data in the next section."
   ]
  },
  {
   "cell_type": "code",
   "execution_count": 62,
   "metadata": {
    "collapsed": false,
    "deletable": true,
    "editable": true
   },
   "outputs": [
    {
     "name": "stdout",
     "output_type": "stream",
     "text": [
      "Checking the Training on a Single Batch...\n",
      "Epoch  1, CIFAR-10 Batch 1:  Loss:     2.0933 Validation Accuracy: 0.286200\n",
      "Epoch  2, CIFAR-10 Batch 1:  Loss:     1.8851 Validation Accuracy: 0.363800\n",
      "Epoch  3, CIFAR-10 Batch 1:  Loss:     1.7560 Validation Accuracy: 0.404600\n",
      "Epoch  4, CIFAR-10 Batch 1:  Loss:     1.5564 Validation Accuracy: 0.454600\n",
      "Epoch  5, CIFAR-10 Batch 1:  Loss:     1.4431 Validation Accuracy: 0.449800\n",
      "Epoch  6, CIFAR-10 Batch 1:  Loss:     1.3387 Validation Accuracy: 0.473800\n",
      "Epoch  7, CIFAR-10 Batch 1:  Loss:     1.2423 Validation Accuracy: 0.496800\n",
      "Epoch  8, CIFAR-10 Batch 1:  Loss:     1.1922 Validation Accuracy: 0.513400\n",
      "Epoch  9, CIFAR-10 Batch 1:  Loss:     1.0361 Validation Accuracy: 0.499000\n",
      "Epoch 10, CIFAR-10 Batch 1:  Loss:     0.9076 Validation Accuracy: 0.511800\n",
      "Epoch 11, CIFAR-10 Batch 1:  Loss:     0.8326 Validation Accuracy: 0.527400\n",
      "Epoch 12, CIFAR-10 Batch 1:  Loss:     0.7358 Validation Accuracy: 0.531200\n",
      "Epoch 13, CIFAR-10 Batch 1:  Loss:     0.6713 Validation Accuracy: 0.519200\n",
      "Epoch 14, CIFAR-10 Batch 1:  Loss:     0.5307 Validation Accuracy: 0.540000\n",
      "Epoch 15, CIFAR-10 Batch 1:  Loss:     0.4482 Validation Accuracy: 0.547400\n",
      "Epoch 16, CIFAR-10 Batch 1:  Loss:     0.3928 Validation Accuracy: 0.545800\n",
      "Epoch 17, CIFAR-10 Batch 1:  Loss:     0.3453 Validation Accuracy: 0.543200\n",
      "Epoch 18, CIFAR-10 Batch 1:  Loss:     0.3534 Validation Accuracy: 0.544400\n",
      "Epoch 19, CIFAR-10 Batch 1:  Loss:     0.3010 Validation Accuracy: 0.565800\n",
      "Epoch 20, CIFAR-10 Batch 1:  Loss:     0.2037 Validation Accuracy: 0.568600\n",
      "Epoch 21, CIFAR-10 Batch 1:  Loss:     0.1845 Validation Accuracy: 0.552800\n",
      "Epoch 22, CIFAR-10 Batch 1:  Loss:     0.1689 Validation Accuracy: 0.570400\n",
      "Epoch 23, CIFAR-10 Batch 1:  Loss:     0.1406 Validation Accuracy: 0.556800\n",
      "Epoch 24, CIFAR-10 Batch 1:  Loss:     0.1181 Validation Accuracy: 0.584000\n",
      "Epoch 25, CIFAR-10 Batch 1:  Loss:     0.1048 Validation Accuracy: 0.582800\n",
      "Epoch 26, CIFAR-10 Batch 1:  Loss:     0.0917 Validation Accuracy: 0.564400\n",
      "Epoch 27, CIFAR-10 Batch 1:  Loss:     0.0694 Validation Accuracy: 0.567600\n",
      "Epoch 28, CIFAR-10 Batch 1:  Loss:     0.0545 Validation Accuracy: 0.573000\n",
      "Epoch 29, CIFAR-10 Batch 1:  Loss:     0.0640 Validation Accuracy: 0.571400\n",
      "Epoch 30, CIFAR-10 Batch 1:  Loss:     0.0751 Validation Accuracy: 0.530000\n",
      "Epoch 31, CIFAR-10 Batch 1:  Loss:     0.0613 Validation Accuracy: 0.560200\n",
      "Epoch 32, CIFAR-10 Batch 1:  Loss:     0.0257 Validation Accuracy: 0.573800\n",
      "Epoch 33, CIFAR-10 Batch 1:  Loss:     0.0194 Validation Accuracy: 0.577400\n",
      "Epoch 34, CIFAR-10 Batch 1:  Loss:     0.0188 Validation Accuracy: 0.583000\n",
      "Epoch 35, CIFAR-10 Batch 1:  Loss:     0.0279 Validation Accuracy: 0.571400\n",
      "Epoch 36, CIFAR-10 Batch 1:  Loss:     0.0105 Validation Accuracy: 0.577400\n",
      "Epoch 37, CIFAR-10 Batch 1:  Loss:     0.0098 Validation Accuracy: 0.579600\n",
      "Epoch 38, CIFAR-10 Batch 1:  Loss:     0.0150 Validation Accuracy: 0.574800\n",
      "Epoch 39, CIFAR-10 Batch 1:  Loss:     0.0167 Validation Accuracy: 0.561600\n",
      "Epoch 40, CIFAR-10 Batch 1:  Loss:     0.0111 Validation Accuracy: 0.569200\n",
      "Epoch 41, CIFAR-10 Batch 1:  Loss:     0.0156 Validation Accuracy: 0.580800\n",
      "Epoch 42, CIFAR-10 Batch 1:  Loss:     0.0176 Validation Accuracy: 0.577200\n",
      "Epoch 43, CIFAR-10 Batch 1:  Loss:     0.0053 Validation Accuracy: 0.585800\n",
      "Epoch 44, CIFAR-10 Batch 1:  Loss:     0.0061 Validation Accuracy: 0.567600\n",
      "Epoch 45, CIFAR-10 Batch 1:  Loss:     0.0133 Validation Accuracy: 0.574600\n",
      "Epoch 46, CIFAR-10 Batch 1:  Loss:     0.0073 Validation Accuracy: 0.576000\n",
      "Epoch 47, CIFAR-10 Batch 1:  Loss:     0.0041 Validation Accuracy: 0.579400\n",
      "Epoch 48, CIFAR-10 Batch 1:  Loss:     0.0057 Validation Accuracy: 0.578000\n",
      "Epoch 49, CIFAR-10 Batch 1:  Loss:     0.0041 Validation Accuracy: 0.580600\n",
      "Epoch 50, CIFAR-10 Batch 1:  Loss:     0.0027 Validation Accuracy: 0.574800\n",
      "Epoch 51, CIFAR-10 Batch 1:  Loss:     0.0026 Validation Accuracy: 0.565600\n",
      "Epoch 52, CIFAR-10 Batch 1:  Loss:     0.0022 Validation Accuracy: 0.580400\n",
      "Epoch 53, CIFAR-10 Batch 1:  Loss:     0.0012 Validation Accuracy: 0.581000\n",
      "Epoch 54, CIFAR-10 Batch 1:  Loss:     0.0016 Validation Accuracy: 0.579800\n",
      "Epoch 55, CIFAR-10 Batch 1:  Loss:     0.0013 Validation Accuracy: 0.583800\n",
      "Epoch 56, CIFAR-10 Batch 1:  Loss:     0.0016 Validation Accuracy: 0.582800\n",
      "Epoch 57, CIFAR-10 Batch 1:  Loss:     0.0022 Validation Accuracy: 0.584600\n",
      "Epoch 58, CIFAR-10 Batch 1:  Loss:     0.0016 Validation Accuracy: 0.584000\n",
      "Epoch 59, CIFAR-10 Batch 1:  Loss:     0.0032 Validation Accuracy: 0.579400\n",
      "Epoch 60, CIFAR-10 Batch 1:  Loss:     0.0026 Validation Accuracy: 0.579200\n",
      "Epoch 61, CIFAR-10 Batch 1:  Loss:     0.0027 Validation Accuracy: 0.574200\n",
      "Epoch 62, CIFAR-10 Batch 1:  Loss:     0.0047 Validation Accuracy: 0.592200\n",
      "Epoch 63, CIFAR-10 Batch 1:  Loss:     0.0009 Validation Accuracy: 0.584200\n",
      "Epoch 64, CIFAR-10 Batch 1:  Loss:     0.0062 Validation Accuracy: 0.578800\n",
      "Epoch 65, CIFAR-10 Batch 1:  Loss:     0.0014 Validation Accuracy: 0.587800\n",
      "Epoch 66, CIFAR-10 Batch 1:  Loss:     0.0007 Validation Accuracy: 0.575800\n",
      "Epoch 67, CIFAR-10 Batch 1:  Loss:     0.0018 Validation Accuracy: 0.586400\n",
      "Epoch 68, CIFAR-10 Batch 1:  Loss:     0.0028 Validation Accuracy: 0.563200\n",
      "Epoch 69, CIFAR-10 Batch 1:  Loss:     0.0073 Validation Accuracy: 0.579000\n",
      "Epoch 70, CIFAR-10 Batch 1:  Loss:     0.0006 Validation Accuracy: 0.583200\n",
      "Epoch 71, CIFAR-10 Batch 1:  Loss:     0.0021 Validation Accuracy: 0.584200\n",
      "Epoch 72, CIFAR-10 Batch 1:  Loss:     0.0002 Validation Accuracy: 0.578000\n",
      "Epoch 73, CIFAR-10 Batch 1:  Loss:     0.0007 Validation Accuracy: 0.579600\n",
      "Epoch 74, CIFAR-10 Batch 1:  Loss:     0.0007 Validation Accuracy: 0.583200\n",
      "Epoch 75, CIFAR-10 Batch 1:  Loss:     0.0009 Validation Accuracy: 0.576800\n",
      "Epoch 76, CIFAR-10 Batch 1:  Loss:     0.0027 Validation Accuracy: 0.563000\n",
      "Epoch 77, CIFAR-10 Batch 1:  Loss:     0.0015 Validation Accuracy: 0.573000\n",
      "Epoch 78, CIFAR-10 Batch 1:  Loss:     0.0014 Validation Accuracy: 0.584800\n",
      "Epoch 79, CIFAR-10 Batch 1:  Loss:     0.0013 Validation Accuracy: 0.567600\n",
      "Epoch 80, CIFAR-10 Batch 1:  Loss:     0.0014 Validation Accuracy: 0.583800\n",
      "Epoch 81, CIFAR-10 Batch 1:  Loss:     0.0026 Validation Accuracy: 0.557800\n",
      "Epoch 82, CIFAR-10 Batch 1:  Loss:     0.0004 Validation Accuracy: 0.578200\n",
      "Epoch 83, CIFAR-10 Batch 1:  Loss:     0.0013 Validation Accuracy: 0.585200\n",
      "Epoch 84, CIFAR-10 Batch 1:  Loss:     0.0009 Validation Accuracy: 0.557200\n",
      "Epoch 85, CIFAR-10 Batch 1:  Loss:     0.0006 Validation Accuracy: 0.584600\n",
      "Epoch 86, CIFAR-10 Batch 1:  Loss:     0.0004 Validation Accuracy: 0.581600\n",
      "Epoch 87, CIFAR-10 Batch 1:  Loss:     0.0001 Validation Accuracy: 0.587200\n",
      "Epoch 88, CIFAR-10 Batch 1:  Loss:     0.0005 Validation Accuracy: 0.580400\n",
      "Epoch 89, CIFAR-10 Batch 1:  Loss:     0.0004 Validation Accuracy: 0.582200\n",
      "Epoch 90, CIFAR-10 Batch 1:  Loss:     0.0006 Validation Accuracy: 0.584200\n",
      "Epoch 91, CIFAR-10 Batch 1:  Loss:     0.0020 Validation Accuracy: 0.581600\n",
      "Epoch 92, CIFAR-10 Batch 1:  Loss:     0.0012 Validation Accuracy: 0.590800\n",
      "Epoch 93, CIFAR-10 Batch 1:  Loss:     0.0080 Validation Accuracy: 0.593600\n",
      "Epoch 94, CIFAR-10 Batch 1:  Loss:     0.0007 Validation Accuracy: 0.580400\n",
      "Epoch 95, CIFAR-10 Batch 1:  Loss:     0.0008 Validation Accuracy: 0.591000\n",
      "Epoch 96, CIFAR-10 Batch 1:  Loss:     0.0015 Validation Accuracy: 0.590600\n",
      "Epoch 97, CIFAR-10 Batch 1:  Loss:     0.0002 Validation Accuracy: 0.587400\n",
      "Epoch 98, CIFAR-10 Batch 1:  Loss:     0.0005 Validation Accuracy: 0.586600\n",
      "Epoch 99, CIFAR-10 Batch 1:  Loss:     0.0004 Validation Accuracy: 0.574200\n",
      "Epoch 100, CIFAR-10 Batch 1:  Loss:     0.0007 Validation Accuracy: 0.581800\n"
     ]
    }
   ],
   "source": [
    "\"\"\"\n",
    "DON'T MODIFY ANYTHING IN THIS CELL\n",
    "\"\"\"\n",
    "print('Checking the Training on a Single Batch...')\n",
    "with tf.Session() as sess:\n",
    "    # Initializing the variables\n",
    "    sess.run(tf.global_variables_initializer())\n",
    "    \n",
    "    # Training cycle\n",
    "    for epoch in range(epochs):\n",
    "        batch_i = 1\n",
    "        for batch_features, batch_labels in helper.load_preprocess_training_batch(batch_i, batch_size):\n",
    "            train_neural_network(sess, optimizer, keep_probability, batch_features, batch_labels)\n",
    "        print('Epoch {:>2}, CIFAR-10 Batch {}:  '.format(epoch + 1, batch_i), end='')\n",
    "        print_stats(sess, batch_features, batch_labels, cost, accuracy)"
   ]
  },
  {
   "cell_type": "markdown",
   "metadata": {
    "deletable": true,
    "editable": true
   },
   "source": [
    "### Fully Train the Model\n",
    "Now that you got a good accuracy with a single CIFAR-10 batch, try it with all five batches."
   ]
  },
  {
   "cell_type": "code",
   "execution_count": 63,
   "metadata": {
    "collapsed": false,
    "deletable": true,
    "editable": true
   },
   "outputs": [
    {
     "name": "stdout",
     "output_type": "stream",
     "text": [
      "Training...\n",
      "Epoch  1, CIFAR-10 Batch 1:  Loss:     2.2024 Validation Accuracy: 0.216200\n",
      "Epoch  1, CIFAR-10 Batch 2:  Loss:     1.8918 Validation Accuracy: 0.323000\n",
      "Epoch  1, CIFAR-10 Batch 3:  Loss:     1.6597 Validation Accuracy: 0.350600\n",
      "Epoch  1, CIFAR-10 Batch 4:  Loss:     1.6891 Validation Accuracy: 0.409400\n",
      "Epoch  1, CIFAR-10 Batch 5:  Loss:     1.6721 Validation Accuracy: 0.432600\n",
      "Epoch  2, CIFAR-10 Batch 1:  Loss:     1.7581 Validation Accuracy: 0.454200\n",
      "Epoch  2, CIFAR-10 Batch 2:  Loss:     1.5396 Validation Accuracy: 0.459600\n",
      "Epoch  2, CIFAR-10 Batch 3:  Loss:     1.2030 Validation Accuracy: 0.497800\n",
      "Epoch  2, CIFAR-10 Batch 4:  Loss:     1.3279 Validation Accuracy: 0.495400\n",
      "Epoch  2, CIFAR-10 Batch 5:  Loss:     1.4356 Validation Accuracy: 0.519400\n",
      "Epoch  3, CIFAR-10 Batch 1:  Loss:     1.3458 Validation Accuracy: 0.520400\n",
      "Epoch  3, CIFAR-10 Batch 2:  Loss:     1.3255 Validation Accuracy: 0.532600\n",
      "Epoch  3, CIFAR-10 Batch 3:  Loss:     0.9728 Validation Accuracy: 0.540800\n",
      "Epoch  3, CIFAR-10 Batch 4:  Loss:     1.1435 Validation Accuracy: 0.550800\n",
      "Epoch  3, CIFAR-10 Batch 5:  Loss:     1.2494 Validation Accuracy: 0.550200\n",
      "Epoch  4, CIFAR-10 Batch 1:  Loss:     1.1391 Validation Accuracy: 0.564400\n",
      "Epoch  4, CIFAR-10 Batch 2:  Loss:     1.0879 Validation Accuracy: 0.576400\n",
      "Epoch  4, CIFAR-10 Batch 3:  Loss:     0.8567 Validation Accuracy: 0.578400\n",
      "Epoch  4, CIFAR-10 Batch 4:  Loss:     0.9284 Validation Accuracy: 0.564600\n",
      "Epoch  4, CIFAR-10 Batch 5:  Loss:     1.0526 Validation Accuracy: 0.584200\n",
      "Epoch  5, CIFAR-10 Batch 1:  Loss:     1.0242 Validation Accuracy: 0.590200\n",
      "Epoch  5, CIFAR-10 Batch 2:  Loss:     0.9761 Validation Accuracy: 0.591000\n",
      "Epoch  5, CIFAR-10 Batch 3:  Loss:     0.7361 Validation Accuracy: 0.592400\n",
      "Epoch  5, CIFAR-10 Batch 4:  Loss:     0.7895 Validation Accuracy: 0.598600\n",
      "Epoch  5, CIFAR-10 Batch 5:  Loss:     0.9100 Validation Accuracy: 0.609600\n",
      "Epoch  6, CIFAR-10 Batch 1:  Loss:     0.8890 Validation Accuracy: 0.612600\n",
      "Epoch  6, CIFAR-10 Batch 2:  Loss:     0.8516 Validation Accuracy: 0.610400\n",
      "Epoch  6, CIFAR-10 Batch 3:  Loss:     0.5833 Validation Accuracy: 0.614400\n",
      "Epoch  6, CIFAR-10 Batch 4:  Loss:     0.6646 Validation Accuracy: 0.623800\n",
      "Epoch  6, CIFAR-10 Batch 5:  Loss:     0.8346 Validation Accuracy: 0.626400\n",
      "Epoch  7, CIFAR-10 Batch 1:  Loss:     0.8533 Validation Accuracy: 0.622000\n",
      "Epoch  7, CIFAR-10 Batch 2:  Loss:     0.6736 Validation Accuracy: 0.622000\n",
      "Epoch  7, CIFAR-10 Batch 3:  Loss:     0.5552 Validation Accuracy: 0.626200\n",
      "Epoch  7, CIFAR-10 Batch 4:  Loss:     0.5600 Validation Accuracy: 0.626600\n",
      "Epoch  7, CIFAR-10 Batch 5:  Loss:     0.6754 Validation Accuracy: 0.621400\n",
      "Epoch  8, CIFAR-10 Batch 1:  Loss:     0.8224 Validation Accuracy: 0.637600\n",
      "Epoch  8, CIFAR-10 Batch 2:  Loss:     0.6715 Validation Accuracy: 0.621200\n",
      "Epoch  8, CIFAR-10 Batch 3:  Loss:     0.4590 Validation Accuracy: 0.637600\n",
      "Epoch  8, CIFAR-10 Batch 4:  Loss:     0.4685 Validation Accuracy: 0.645800\n",
      "Epoch  8, CIFAR-10 Batch 5:  Loss:     0.5639 Validation Accuracy: 0.649200\n",
      "Epoch  9, CIFAR-10 Batch 1:  Loss:     0.6644 Validation Accuracy: 0.642400\n",
      "Epoch  9, CIFAR-10 Batch 2:  Loss:     0.5296 Validation Accuracy: 0.640400\n",
      "Epoch  9, CIFAR-10 Batch 3:  Loss:     0.4077 Validation Accuracy: 0.646600\n",
      "Epoch  9, CIFAR-10 Batch 4:  Loss:     0.4215 Validation Accuracy: 0.635600\n",
      "Epoch  9, CIFAR-10 Batch 5:  Loss:     0.5096 Validation Accuracy: 0.642600\n",
      "Epoch 10, CIFAR-10 Batch 1:  Loss:     0.6294 Validation Accuracy: 0.658400\n",
      "Epoch 10, CIFAR-10 Batch 2:  Loss:     0.4727 Validation Accuracy: 0.649400\n",
      "Epoch 10, CIFAR-10 Batch 3:  Loss:     0.3219 Validation Accuracy: 0.652400\n",
      "Epoch 10, CIFAR-10 Batch 4:  Loss:     0.4268 Validation Accuracy: 0.643200\n",
      "Epoch 10, CIFAR-10 Batch 5:  Loss:     0.4031 Validation Accuracy: 0.643000\n",
      "Epoch 11, CIFAR-10 Batch 1:  Loss:     0.5238 Validation Accuracy: 0.666000\n",
      "Epoch 11, CIFAR-10 Batch 2:  Loss:     0.3654 Validation Accuracy: 0.643400\n",
      "Epoch 11, CIFAR-10 Batch 3:  Loss:     0.2565 Validation Accuracy: 0.669600\n",
      "Epoch 11, CIFAR-10 Batch 4:  Loss:     0.3788 Validation Accuracy: 0.640800\n",
      "Epoch 11, CIFAR-10 Batch 5:  Loss:     0.3780 Validation Accuracy: 0.663000\n",
      "Epoch 12, CIFAR-10 Batch 1:  Loss:     0.4740 Validation Accuracy: 0.672000\n",
      "Epoch 12, CIFAR-10 Batch 2:  Loss:     0.2938 Validation Accuracy: 0.654400\n",
      "Epoch 12, CIFAR-10 Batch 3:  Loss:     0.2559 Validation Accuracy: 0.665800\n",
      "Epoch 12, CIFAR-10 Batch 4:  Loss:     0.2807 Validation Accuracy: 0.656800\n",
      "Epoch 12, CIFAR-10 Batch 5:  Loss:     0.3223 Validation Accuracy: 0.651200\n",
      "Epoch 13, CIFAR-10 Batch 1:  Loss:     0.4161 Validation Accuracy: 0.677000\n",
      "Epoch 13, CIFAR-10 Batch 2:  Loss:     0.2493 Validation Accuracy: 0.666200\n",
      "Epoch 13, CIFAR-10 Batch 3:  Loss:     0.2249 Validation Accuracy: 0.661200\n",
      "Epoch 13, CIFAR-10 Batch 4:  Loss:     0.2677 Validation Accuracy: 0.678000\n",
      "Epoch 13, CIFAR-10 Batch 5:  Loss:     0.2892 Validation Accuracy: 0.660600\n",
      "Epoch 14, CIFAR-10 Batch 1:  Loss:     0.3179 Validation Accuracy: 0.674200\n",
      "Epoch 14, CIFAR-10 Batch 2:  Loss:     0.2245 Validation Accuracy: 0.671800\n",
      "Epoch 14, CIFAR-10 Batch 3:  Loss:     0.1829 Validation Accuracy: 0.656000\n",
      "Epoch 14, CIFAR-10 Batch 4:  Loss:     0.2878 Validation Accuracy: 0.669400\n",
      "Epoch 14, CIFAR-10 Batch 5:  Loss:     0.2847 Validation Accuracy: 0.668800\n",
      "Epoch 15, CIFAR-10 Batch 1:  Loss:     0.3096 Validation Accuracy: 0.679400\n",
      "Epoch 15, CIFAR-10 Batch 2:  Loss:     0.1879 Validation Accuracy: 0.666600\n",
      "Epoch 15, CIFAR-10 Batch 3:  Loss:     0.1107 Validation Accuracy: 0.680000\n",
      "Epoch 15, CIFAR-10 Batch 4:  Loss:     0.2967 Validation Accuracy: 0.662400\n",
      "Epoch 15, CIFAR-10 Batch 5:  Loss:     0.2146 Validation Accuracy: 0.665600\n",
      "Epoch 16, CIFAR-10 Batch 1:  Loss:     0.2970 Validation Accuracy: 0.690400\n",
      "Epoch 16, CIFAR-10 Batch 2:  Loss:     0.1834 Validation Accuracy: 0.669000\n",
      "Epoch 16, CIFAR-10 Batch 3:  Loss:     0.0996 Validation Accuracy: 0.689800\n",
      "Epoch 16, CIFAR-10 Batch 4:  Loss:     0.1995 Validation Accuracy: 0.675400\n",
      "Epoch 16, CIFAR-10 Batch 5:  Loss:     0.1630 Validation Accuracy: 0.666800\n",
      "Epoch 17, CIFAR-10 Batch 1:  Loss:     0.2128 Validation Accuracy: 0.684200\n",
      "Epoch 17, CIFAR-10 Batch 2:  Loss:     0.1758 Validation Accuracy: 0.674600\n",
      "Epoch 17, CIFAR-10 Batch 3:  Loss:     0.1156 Validation Accuracy: 0.692200\n",
      "Epoch 17, CIFAR-10 Batch 4:  Loss:     0.1268 Validation Accuracy: 0.675200\n",
      "Epoch 17, CIFAR-10 Batch 5:  Loss:     0.2591 Validation Accuracy: 0.668200\n",
      "Epoch 18, CIFAR-10 Batch 1:  Loss:     0.1930 Validation Accuracy: 0.687000\n",
      "Epoch 18, CIFAR-10 Batch 2:  Loss:     0.1310 Validation Accuracy: 0.683800\n",
      "Epoch 18, CIFAR-10 Batch 3:  Loss:     0.0860 Validation Accuracy: 0.686000\n",
      "Epoch 18, CIFAR-10 Batch 4:  Loss:     0.1475 Validation Accuracy: 0.687000\n",
      "Epoch 18, CIFAR-10 Batch 5:  Loss:     0.1344 Validation Accuracy: 0.677400\n",
      "Epoch 19, CIFAR-10 Batch 1:  Loss:     0.1386 Validation Accuracy: 0.693000\n",
      "Epoch 19, CIFAR-10 Batch 2:  Loss:     0.1047 Validation Accuracy: 0.696400\n",
      "Epoch 19, CIFAR-10 Batch 3:  Loss:     0.0594 Validation Accuracy: 0.695600\n",
      "Epoch 19, CIFAR-10 Batch 4:  Loss:     0.1588 Validation Accuracy: 0.679400\n",
      "Epoch 19, CIFAR-10 Batch 5:  Loss:     0.1155 Validation Accuracy: 0.682200\n",
      "Epoch 20, CIFAR-10 Batch 1:  Loss:     0.1048 Validation Accuracy: 0.691000\n",
      "Epoch 20, CIFAR-10 Batch 2:  Loss:     0.1047 Validation Accuracy: 0.684200\n",
      "Epoch 20, CIFAR-10 Batch 3:  Loss:     0.0531 Validation Accuracy: 0.688400\n",
      "Epoch 20, CIFAR-10 Batch 4:  Loss:     0.1070 Validation Accuracy: 0.677000\n",
      "Epoch 20, CIFAR-10 Batch 5:  Loss:     0.0720 Validation Accuracy: 0.683800\n",
      "Epoch 21, CIFAR-10 Batch 1:  Loss:     0.1291 Validation Accuracy: 0.680200\n",
      "Epoch 21, CIFAR-10 Batch 2:  Loss:     0.1007 Validation Accuracy: 0.677600\n",
      "Epoch 21, CIFAR-10 Batch 3:  Loss:     0.0493 Validation Accuracy: 0.667400\n",
      "Epoch 21, CIFAR-10 Batch 4:  Loss:     0.0896 Validation Accuracy: 0.678400\n",
      "Epoch 21, CIFAR-10 Batch 5:  Loss:     0.0911 Validation Accuracy: 0.681600\n",
      "Epoch 22, CIFAR-10 Batch 1:  Loss:     0.0751 Validation Accuracy: 0.701800\n",
      "Epoch 22, CIFAR-10 Batch 2:  Loss:     0.0784 Validation Accuracy: 0.678200\n",
      "Epoch 22, CIFAR-10 Batch 3:  Loss:     0.1125 Validation Accuracy: 0.662600\n",
      "Epoch 22, CIFAR-10 Batch 4:  Loss:     0.0880 Validation Accuracy: 0.680800\n",
      "Epoch 22, CIFAR-10 Batch 5:  Loss:     0.0467 Validation Accuracy: 0.683200\n",
      "Epoch 23, CIFAR-10 Batch 1:  Loss:     0.0610 Validation Accuracy: 0.691000\n",
      "Epoch 23, CIFAR-10 Batch 2:  Loss:     0.0675 Validation Accuracy: 0.686800\n",
      "Epoch 23, CIFAR-10 Batch 3:  Loss:     0.0369 Validation Accuracy: 0.678200\n",
      "Epoch 23, CIFAR-10 Batch 4:  Loss:     0.0841 Validation Accuracy: 0.675800\n",
      "Epoch 23, CIFAR-10 Batch 5:  Loss:     0.0523 Validation Accuracy: 0.688600\n",
      "Epoch 24, CIFAR-10 Batch 1:  Loss:     0.0819 Validation Accuracy: 0.682200\n",
      "Epoch 24, CIFAR-10 Batch 2:  Loss:     0.0423 Validation Accuracy: 0.685800\n",
      "Epoch 24, CIFAR-10 Batch 3:  Loss:     0.0378 Validation Accuracy: 0.683000\n",
      "Epoch 24, CIFAR-10 Batch 4:  Loss:     0.0841 Validation Accuracy: 0.681600\n",
      "Epoch 24, CIFAR-10 Batch 5:  Loss:     0.0514 Validation Accuracy: 0.694600\n",
      "Epoch 25, CIFAR-10 Batch 1:  Loss:     0.0704 Validation Accuracy: 0.694200\n",
      "Epoch 25, CIFAR-10 Batch 2:  Loss:     0.0450 Validation Accuracy: 0.688400\n",
      "Epoch 25, CIFAR-10 Batch 3:  Loss:     0.0192 Validation Accuracy: 0.695600\n",
      "Epoch 25, CIFAR-10 Batch 4:  Loss:     0.0435 Validation Accuracy: 0.681400\n",
      "Epoch 25, CIFAR-10 Batch 5:  Loss:     0.0436 Validation Accuracy: 0.690600\n",
      "Epoch 26, CIFAR-10 Batch 1:  Loss:     0.0441 Validation Accuracy: 0.694200\n",
      "Epoch 26, CIFAR-10 Batch 2:  Loss:     0.0197 Validation Accuracy: 0.700000\n",
      "Epoch 26, CIFAR-10 Batch 3:  Loss:     0.0508 Validation Accuracy: 0.685800\n",
      "Epoch 26, CIFAR-10 Batch 4:  Loss:     0.0388 Validation Accuracy: 0.687000\n",
      "Epoch 26, CIFAR-10 Batch 5:  Loss:     0.0185 Validation Accuracy: 0.692200\n",
      "Epoch 27, CIFAR-10 Batch 1:  Loss:     0.0502 Validation Accuracy: 0.678200\n",
      "Epoch 27, CIFAR-10 Batch 2:  Loss:     0.0162 Validation Accuracy: 0.690800\n",
      "Epoch 27, CIFAR-10 Batch 3:  Loss:     0.0199 Validation Accuracy: 0.694400\n",
      "Epoch 27, CIFAR-10 Batch 4:  Loss:     0.0299 Validation Accuracy: 0.687200\n",
      "Epoch 27, CIFAR-10 Batch 5:  Loss:     0.0202 Validation Accuracy: 0.688200\n",
      "Epoch 28, CIFAR-10 Batch 1:  Loss:     0.0249 Validation Accuracy: 0.686600\n",
      "Epoch 28, CIFAR-10 Batch 2:  Loss:     0.0177 Validation Accuracy: 0.691800\n",
      "Epoch 28, CIFAR-10 Batch 3:  Loss:     0.0247 Validation Accuracy: 0.697600\n",
      "Epoch 28, CIFAR-10 Batch 4:  Loss:     0.0437 Validation Accuracy: 0.694600\n",
      "Epoch 28, CIFAR-10 Batch 5:  Loss:     0.0135 Validation Accuracy: 0.683600\n",
      "Epoch 29, CIFAR-10 Batch 1:  Loss:     0.0259 Validation Accuracy: 0.701800\n",
      "Epoch 29, CIFAR-10 Batch 2:  Loss:     0.0228 Validation Accuracy: 0.698200\n",
      "Epoch 29, CIFAR-10 Batch 3:  Loss:     0.0191 Validation Accuracy: 0.699400\n",
      "Epoch 29, CIFAR-10 Batch 4:  Loss:     0.0310 Validation Accuracy: 0.691200\n",
      "Epoch 29, CIFAR-10 Batch 5:  Loss:     0.0153 Validation Accuracy: 0.679400\n",
      "Epoch 30, CIFAR-10 Batch 1:  Loss:     0.0206 Validation Accuracy: 0.690400\n",
      "Epoch 30, CIFAR-10 Batch 2:  Loss:     0.0842 Validation Accuracy: 0.690600\n",
      "Epoch 30, CIFAR-10 Batch 3:  Loss:     0.0171 Validation Accuracy: 0.691800\n",
      "Epoch 30, CIFAR-10 Batch 4:  Loss:     0.0379 Validation Accuracy: 0.681600\n",
      "Epoch 30, CIFAR-10 Batch 5:  Loss:     0.0133 Validation Accuracy: 0.683000\n",
      "Epoch 31, CIFAR-10 Batch 1:  Loss:     0.0192 Validation Accuracy: 0.685400\n",
      "Epoch 31, CIFAR-10 Batch 2:  Loss:     0.0556 Validation Accuracy: 0.685000\n",
      "Epoch 31, CIFAR-10 Batch 3:  Loss:     0.0100 Validation Accuracy: 0.686200\n",
      "Epoch 31, CIFAR-10 Batch 4:  Loss:     0.0268 Validation Accuracy: 0.685800\n",
      "Epoch 31, CIFAR-10 Batch 5:  Loss:     0.0094 Validation Accuracy: 0.679400\n",
      "Epoch 32, CIFAR-10 Batch 1:  Loss:     0.0332 Validation Accuracy: 0.680400\n",
      "Epoch 32, CIFAR-10 Batch 2:  Loss:     0.0177 Validation Accuracy: 0.685000\n",
      "Epoch 32, CIFAR-10 Batch 3:  Loss:     0.0194 Validation Accuracy: 0.702400\n",
      "Epoch 32, CIFAR-10 Batch 4:  Loss:     0.0103 Validation Accuracy: 0.698200\n",
      "Epoch 32, CIFAR-10 Batch 5:  Loss:     0.0145 Validation Accuracy: 0.671400\n",
      "Epoch 33, CIFAR-10 Batch 1:  Loss:     0.0122 Validation Accuracy: 0.694000\n",
      "Epoch 33, CIFAR-10 Batch 2:  Loss:     0.0154 Validation Accuracy: 0.685400\n",
      "Epoch 33, CIFAR-10 Batch 3:  Loss:     0.0274 Validation Accuracy: 0.707000\n",
      "Epoch 33, CIFAR-10 Batch 4:  Loss:     0.0111 Validation Accuracy: 0.698600\n",
      "Epoch 33, CIFAR-10 Batch 5:  Loss:     0.0098 Validation Accuracy: 0.697600\n",
      "Epoch 34, CIFAR-10 Batch 1:  Loss:     0.0060 Validation Accuracy: 0.693200\n",
      "Epoch 34, CIFAR-10 Batch 2:  Loss:     0.0153 Validation Accuracy: 0.695000\n",
      "Epoch 34, CIFAR-10 Batch 3:  Loss:     0.0177 Validation Accuracy: 0.701200\n",
      "Epoch 34, CIFAR-10 Batch 4:  Loss:     0.0105 Validation Accuracy: 0.686400\n",
      "Epoch 34, CIFAR-10 Batch 5:  Loss:     0.0229 Validation Accuracy: 0.689400\n",
      "Epoch 35, CIFAR-10 Batch 1:  Loss:     0.0141 Validation Accuracy: 0.688000\n",
      "Epoch 35, CIFAR-10 Batch 2:  Loss:     0.0373 Validation Accuracy: 0.684400\n",
      "Epoch 35, CIFAR-10 Batch 3:  Loss:     0.0074 Validation Accuracy: 0.700400\n",
      "Epoch 35, CIFAR-10 Batch 4:  Loss:     0.0072 Validation Accuracy: 0.697800\n",
      "Epoch 35, CIFAR-10 Batch 5:  Loss:     0.0052 Validation Accuracy: 0.682600\n",
      "Epoch 36, CIFAR-10 Batch 1:  Loss:     0.0177 Validation Accuracy: 0.697400\n",
      "Epoch 36, CIFAR-10 Batch 2:  Loss:     0.0145 Validation Accuracy: 0.676000\n",
      "Epoch 36, CIFAR-10 Batch 3:  Loss:     0.0142 Validation Accuracy: 0.695800\n",
      "Epoch 36, CIFAR-10 Batch 4:  Loss:     0.0081 Validation Accuracy: 0.684200\n",
      "Epoch 36, CIFAR-10 Batch 5:  Loss:     0.0095 Validation Accuracy: 0.694600\n",
      "Epoch 37, CIFAR-10 Batch 1:  Loss:     0.0086 Validation Accuracy: 0.691800\n",
      "Epoch 37, CIFAR-10 Batch 2:  Loss:     0.0080 Validation Accuracy: 0.676800\n",
      "Epoch 37, CIFAR-10 Batch 3:  Loss:     0.0079 Validation Accuracy: 0.703600\n",
      "Epoch 37, CIFAR-10 Batch 4:  Loss:     0.0090 Validation Accuracy: 0.686800\n",
      "Epoch 37, CIFAR-10 Batch 5:  Loss:     0.0075 Validation Accuracy: 0.696000\n",
      "Epoch 38, CIFAR-10 Batch 1:  Loss:     0.0092 Validation Accuracy: 0.688600\n",
      "Epoch 38, CIFAR-10 Batch 2:  Loss:     0.0083 Validation Accuracy: 0.681400\n",
      "Epoch 38, CIFAR-10 Batch 3:  Loss:     0.0011 Validation Accuracy: 0.700800\n",
      "Epoch 38, CIFAR-10 Batch 4:  Loss:     0.0075 Validation Accuracy: 0.696000\n",
      "Epoch 38, CIFAR-10 Batch 5:  Loss:     0.0107 Validation Accuracy: 0.687600\n",
      "Epoch 39, CIFAR-10 Batch 1:  Loss:     0.0177 Validation Accuracy: 0.696200\n",
      "Epoch 39, CIFAR-10 Batch 2:  Loss:     0.0056 Validation Accuracy: 0.688800\n",
      "Epoch 39, CIFAR-10 Batch 3:  Loss:     0.0089 Validation Accuracy: 0.695800\n",
      "Epoch 39, CIFAR-10 Batch 4:  Loss:     0.0140 Validation Accuracy: 0.681800\n",
      "Epoch 39, CIFAR-10 Batch 5:  Loss:     0.0040 Validation Accuracy: 0.696200\n",
      "Epoch 40, CIFAR-10 Batch 1:  Loss:     0.0089 Validation Accuracy: 0.705200\n",
      "Epoch 40, CIFAR-10 Batch 2:  Loss:     0.0086 Validation Accuracy: 0.692200\n",
      "Epoch 40, CIFAR-10 Batch 3:  Loss:     0.0057 Validation Accuracy: 0.695400\n",
      "Epoch 40, CIFAR-10 Batch 4:  Loss:     0.0070 Validation Accuracy: 0.692800\n",
      "Epoch 40, CIFAR-10 Batch 5:  Loss:     0.0258 Validation Accuracy: 0.691800\n",
      "Epoch 41, CIFAR-10 Batch 1:  Loss:     0.0173 Validation Accuracy: 0.691800\n",
      "Epoch 41, CIFAR-10 Batch 2:  Loss:     0.0047 Validation Accuracy: 0.697800\n",
      "Epoch 41, CIFAR-10 Batch 3:  Loss:     0.0035 Validation Accuracy: 0.704600\n",
      "Epoch 41, CIFAR-10 Batch 4:  Loss:     0.0069 Validation Accuracy: 0.690200\n",
      "Epoch 41, CIFAR-10 Batch 5:  Loss:     0.0027 Validation Accuracy: 0.703000\n",
      "Epoch 42, CIFAR-10 Batch 1:  Loss:     0.0077 Validation Accuracy: 0.702800\n",
      "Epoch 42, CIFAR-10 Batch 2:  Loss:     0.0051 Validation Accuracy: 0.682600\n",
      "Epoch 42, CIFAR-10 Batch 3:  Loss:     0.0022 Validation Accuracy: 0.704600\n",
      "Epoch 42, CIFAR-10 Batch 4:  Loss:     0.0089 Validation Accuracy: 0.698000\n",
      "Epoch 42, CIFAR-10 Batch 5:  Loss:     0.0046 Validation Accuracy: 0.702600\n",
      "Epoch 43, CIFAR-10 Batch 1:  Loss:     0.0135 Validation Accuracy: 0.698600\n",
      "Epoch 43, CIFAR-10 Batch 2:  Loss:     0.0059 Validation Accuracy: 0.693800\n",
      "Epoch 43, CIFAR-10 Batch 3:  Loss:     0.0015 Validation Accuracy: 0.713400\n",
      "Epoch 43, CIFAR-10 Batch 4:  Loss:     0.0075 Validation Accuracy: 0.685400\n",
      "Epoch 43, CIFAR-10 Batch 5:  Loss:     0.0055 Validation Accuracy: 0.692400\n",
      "Epoch 44, CIFAR-10 Batch 1:  Loss:     0.0081 Validation Accuracy: 0.691600\n",
      "Epoch 44, CIFAR-10 Batch 2:  Loss:     0.0017 Validation Accuracy: 0.701600\n",
      "Epoch 44, CIFAR-10 Batch 3:  Loss:     0.0022 Validation Accuracy: 0.702200\n",
      "Epoch 44, CIFAR-10 Batch 4:  Loss:     0.0031 Validation Accuracy: 0.694800\n",
      "Epoch 44, CIFAR-10 Batch 5:  Loss:     0.0288 Validation Accuracy: 0.706800\n",
      "Epoch 45, CIFAR-10 Batch 1:  Loss:     0.0041 Validation Accuracy: 0.704200\n",
      "Epoch 45, CIFAR-10 Batch 2:  Loss:     0.0037 Validation Accuracy: 0.688600\n",
      "Epoch 45, CIFAR-10 Batch 3:  Loss:     0.0024 Validation Accuracy: 0.705400\n",
      "Epoch 45, CIFAR-10 Batch 4:  Loss:     0.0033 Validation Accuracy: 0.702800\n",
      "Epoch 45, CIFAR-10 Batch 5:  Loss:     0.0082 Validation Accuracy: 0.707400\n",
      "Epoch 46, CIFAR-10 Batch 1:  Loss:     0.0070 Validation Accuracy: 0.696200\n",
      "Epoch 46, CIFAR-10 Batch 2:  Loss:     0.0020 Validation Accuracy: 0.700800\n",
      "Epoch 46, CIFAR-10 Batch 3:  Loss:     0.0197 Validation Accuracy: 0.703200\n",
      "Epoch 46, CIFAR-10 Batch 4:  Loss:     0.0124 Validation Accuracy: 0.690200\n",
      "Epoch 46, CIFAR-10 Batch 5:  Loss:     0.0058 Validation Accuracy: 0.692000\n",
      "Epoch 47, CIFAR-10 Batch 1:  Loss:     0.0023 Validation Accuracy: 0.698200\n",
      "Epoch 47, CIFAR-10 Batch 2:  Loss:     0.0017 Validation Accuracy: 0.690400\n",
      "Epoch 47, CIFAR-10 Batch 3:  Loss:     0.0071 Validation Accuracy: 0.708200\n",
      "Epoch 47, CIFAR-10 Batch 4:  Loss:     0.0041 Validation Accuracy: 0.712000\n",
      "Epoch 47, CIFAR-10 Batch 5:  Loss:     0.0111 Validation Accuracy: 0.711200\n",
      "Epoch 48, CIFAR-10 Batch 1:  Loss:     0.0055 Validation Accuracy: 0.693200\n",
      "Epoch 48, CIFAR-10 Batch 2:  Loss:     0.0084 Validation Accuracy: 0.697600\n",
      "Epoch 48, CIFAR-10 Batch 3:  Loss:     0.0026 Validation Accuracy: 0.708200\n",
      "Epoch 48, CIFAR-10 Batch 4:  Loss:     0.0049 Validation Accuracy: 0.700600\n",
      "Epoch 48, CIFAR-10 Batch 5:  Loss:     0.0034 Validation Accuracy: 0.706200\n",
      "Epoch 49, CIFAR-10 Batch 1:  Loss:     0.0031 Validation Accuracy: 0.703400\n",
      "Epoch 49, CIFAR-10 Batch 2:  Loss:     0.0133 Validation Accuracy: 0.703600\n",
      "Epoch 49, CIFAR-10 Batch 3:  Loss:     0.0006 Validation Accuracy: 0.708000\n",
      "Epoch 49, CIFAR-10 Batch 4:  Loss:     0.0177 Validation Accuracy: 0.700600\n",
      "Epoch 49, CIFAR-10 Batch 5:  Loss:     0.0201 Validation Accuracy: 0.701600\n",
      "Epoch 50, CIFAR-10 Batch 1:  Loss:     0.0024 Validation Accuracy: 0.690000\n"
     ]
    },
    {
     "ename": "KeyboardInterrupt",
     "evalue": "",
     "output_type": "error",
     "traceback": [
      "\u001b[0;31m---------------------------------------------------------------------------\u001b[0m",
      "\u001b[0;31mKeyboardInterrupt\u001b[0m                         Traceback (most recent call last)",
      "\u001b[0;32m<ipython-input-63-9df3032ebe9d>\u001b[0m in \u001b[0;36m<module>\u001b[0;34m()\u001b[0m\n\u001b[1;32m     15\u001b[0m         \u001b[0;32mfor\u001b[0m \u001b[0mbatch_i\u001b[0m \u001b[0;32min\u001b[0m \u001b[0mrange\u001b[0m\u001b[0;34m(\u001b[0m\u001b[0;36m1\u001b[0m\u001b[0;34m,\u001b[0m \u001b[0mn_batches\u001b[0m \u001b[0;34m+\u001b[0m \u001b[0;36m1\u001b[0m\u001b[0;34m)\u001b[0m\u001b[0;34m:\u001b[0m\u001b[0;34m\u001b[0m\u001b[0m\n\u001b[1;32m     16\u001b[0m             \u001b[0;32mfor\u001b[0m \u001b[0mbatch_features\u001b[0m\u001b[0;34m,\u001b[0m \u001b[0mbatch_labels\u001b[0m \u001b[0;32min\u001b[0m \u001b[0mhelper\u001b[0m\u001b[0;34m.\u001b[0m\u001b[0mload_preprocess_training_batch\u001b[0m\u001b[0;34m(\u001b[0m\u001b[0mbatch_i\u001b[0m\u001b[0;34m,\u001b[0m \u001b[0mbatch_size\u001b[0m\u001b[0;34m)\u001b[0m\u001b[0;34m:\u001b[0m\u001b[0;34m\u001b[0m\u001b[0m\n\u001b[0;32m---> 17\u001b[0;31m                 \u001b[0mtrain_neural_network\u001b[0m\u001b[0;34m(\u001b[0m\u001b[0msess\u001b[0m\u001b[0;34m,\u001b[0m \u001b[0moptimizer\u001b[0m\u001b[0;34m,\u001b[0m \u001b[0mkeep_probability\u001b[0m\u001b[0;34m,\u001b[0m \u001b[0mbatch_features\u001b[0m\u001b[0;34m,\u001b[0m \u001b[0mbatch_labels\u001b[0m\u001b[0;34m)\u001b[0m\u001b[0;34m\u001b[0m\u001b[0m\n\u001b[0m\u001b[1;32m     18\u001b[0m             \u001b[0mprint\u001b[0m\u001b[0;34m(\u001b[0m\u001b[0;34m'Epoch {:>2}, CIFAR-10 Batch {}:  '\u001b[0m\u001b[0;34m.\u001b[0m\u001b[0mformat\u001b[0m\u001b[0;34m(\u001b[0m\u001b[0mepoch\u001b[0m \u001b[0;34m+\u001b[0m \u001b[0;36m1\u001b[0m\u001b[0;34m,\u001b[0m \u001b[0mbatch_i\u001b[0m\u001b[0;34m)\u001b[0m\u001b[0;34m,\u001b[0m \u001b[0mend\u001b[0m\u001b[0;34m=\u001b[0m\u001b[0;34m''\u001b[0m\u001b[0;34m)\u001b[0m\u001b[0;34m\u001b[0m\u001b[0m\n\u001b[1;32m     19\u001b[0m             \u001b[0mprint_stats\u001b[0m\u001b[0;34m(\u001b[0m\u001b[0msess\u001b[0m\u001b[0;34m,\u001b[0m \u001b[0mbatch_features\u001b[0m\u001b[0;34m,\u001b[0m \u001b[0mbatch_labels\u001b[0m\u001b[0;34m,\u001b[0m \u001b[0mcost\u001b[0m\u001b[0;34m,\u001b[0m \u001b[0maccuracy\u001b[0m\u001b[0;34m)\u001b[0m\u001b[0;34m\u001b[0m\u001b[0m\n",
      "\u001b[0;32m<ipython-input-15-47158fd6ba2a>\u001b[0m in \u001b[0;36mtrain_neural_network\u001b[0;34m(session, optimizer, keep_probability, feature_batch, label_batch)\u001b[0m\n\u001b[1;32m     12\u001b[0m                           \u001b[0mx\u001b[0m\u001b[0;34m:\u001b[0m \u001b[0mfeature_batch\u001b[0m\u001b[0;34m,\u001b[0m\u001b[0;34m\u001b[0m\u001b[0m\n\u001b[1;32m     13\u001b[0m                           \u001b[0my\u001b[0m\u001b[0;34m:\u001b[0m \u001b[0mlabel_batch\u001b[0m\u001b[0;34m,\u001b[0m\u001b[0;34m\u001b[0m\u001b[0m\n\u001b[0;32m---> 14\u001b[0;31m                           keep_prob: keep_probability})\n\u001b[0m\u001b[1;32m     15\u001b[0m     \u001b[0;32mpass\u001b[0m\u001b[0;34m\u001b[0m\u001b[0m\n\u001b[1;32m     16\u001b[0m \u001b[0;34m\u001b[0m\u001b[0m\n",
      "\u001b[0;32m/usr/local/lib/python3.5/site-packages/tensorflow/python/client/session.py\u001b[0m in \u001b[0;36mrun\u001b[0;34m(self, fetches, feed_dict, options, run_metadata)\u001b[0m\n\u001b[1;32m    764\u001b[0m     \u001b[0;32mtry\u001b[0m\u001b[0;34m:\u001b[0m\u001b[0;34m\u001b[0m\u001b[0m\n\u001b[1;32m    765\u001b[0m       result = self._run(None, fetches, feed_dict, options_ptr,\n\u001b[0;32m--> 766\u001b[0;31m                          run_metadata_ptr)\n\u001b[0m\u001b[1;32m    767\u001b[0m       \u001b[0;32mif\u001b[0m \u001b[0mrun_metadata\u001b[0m\u001b[0;34m:\u001b[0m\u001b[0;34m\u001b[0m\u001b[0m\n\u001b[1;32m    768\u001b[0m         \u001b[0mproto_data\u001b[0m \u001b[0;34m=\u001b[0m \u001b[0mtf_session\u001b[0m\u001b[0;34m.\u001b[0m\u001b[0mTF_GetBuffer\u001b[0m\u001b[0;34m(\u001b[0m\u001b[0mrun_metadata_ptr\u001b[0m\u001b[0;34m)\u001b[0m\u001b[0;34m\u001b[0m\u001b[0m\n",
      "\u001b[0;32m/usr/local/lib/python3.5/site-packages/tensorflow/python/client/session.py\u001b[0m in \u001b[0;36m_run\u001b[0;34m(self, handle, fetches, feed_dict, options, run_metadata)\u001b[0m\n\u001b[1;32m    962\u001b[0m     \u001b[0;32mif\u001b[0m \u001b[0mfinal_fetches\u001b[0m \u001b[0;32mor\u001b[0m \u001b[0mfinal_targets\u001b[0m\u001b[0;34m:\u001b[0m\u001b[0;34m\u001b[0m\u001b[0m\n\u001b[1;32m    963\u001b[0m       results = self._do_run(handle, final_targets, final_fetches,\n\u001b[0;32m--> 964\u001b[0;31m                              feed_dict_string, options, run_metadata)\n\u001b[0m\u001b[1;32m    965\u001b[0m     \u001b[0;32melse\u001b[0m\u001b[0;34m:\u001b[0m\u001b[0;34m\u001b[0m\u001b[0m\n\u001b[1;32m    966\u001b[0m       \u001b[0mresults\u001b[0m \u001b[0;34m=\u001b[0m \u001b[0;34m[\u001b[0m\u001b[0;34m]\u001b[0m\u001b[0;34m\u001b[0m\u001b[0m\n",
      "\u001b[0;32m/usr/local/lib/python3.5/site-packages/tensorflow/python/client/session.py\u001b[0m in \u001b[0;36m_do_run\u001b[0;34m(self, handle, target_list, fetch_list, feed_dict, options, run_metadata)\u001b[0m\n\u001b[1;32m   1012\u001b[0m     \u001b[0;32mif\u001b[0m \u001b[0mhandle\u001b[0m \u001b[0;32mis\u001b[0m \u001b[0;32mNone\u001b[0m\u001b[0;34m:\u001b[0m\u001b[0;34m\u001b[0m\u001b[0m\n\u001b[1;32m   1013\u001b[0m       return self._do_call(_run_fn, self._session, feed_dict, fetch_list,\n\u001b[0;32m-> 1014\u001b[0;31m                            target_list, options, run_metadata)\n\u001b[0m\u001b[1;32m   1015\u001b[0m     \u001b[0;32melse\u001b[0m\u001b[0;34m:\u001b[0m\u001b[0;34m\u001b[0m\u001b[0m\n\u001b[1;32m   1016\u001b[0m       return self._do_call(_prun_fn, self._session, handle, feed_dict,\n",
      "\u001b[0;32m/usr/local/lib/python3.5/site-packages/tensorflow/python/client/session.py\u001b[0m in \u001b[0;36m_do_call\u001b[0;34m(self, fn, *args)\u001b[0m\n\u001b[1;32m   1019\u001b[0m   \u001b[0;32mdef\u001b[0m \u001b[0m_do_call\u001b[0m\u001b[0;34m(\u001b[0m\u001b[0mself\u001b[0m\u001b[0;34m,\u001b[0m \u001b[0mfn\u001b[0m\u001b[0;34m,\u001b[0m \u001b[0;34m*\u001b[0m\u001b[0margs\u001b[0m\u001b[0;34m)\u001b[0m\u001b[0;34m:\u001b[0m\u001b[0;34m\u001b[0m\u001b[0m\n\u001b[1;32m   1020\u001b[0m     \u001b[0;32mtry\u001b[0m\u001b[0;34m:\u001b[0m\u001b[0;34m\u001b[0m\u001b[0m\n\u001b[0;32m-> 1021\u001b[0;31m       \u001b[0;32mreturn\u001b[0m \u001b[0mfn\u001b[0m\u001b[0;34m(\u001b[0m\u001b[0;34m*\u001b[0m\u001b[0margs\u001b[0m\u001b[0;34m)\u001b[0m\u001b[0;34m\u001b[0m\u001b[0m\n\u001b[0m\u001b[1;32m   1022\u001b[0m     \u001b[0;32mexcept\u001b[0m \u001b[0merrors\u001b[0m\u001b[0;34m.\u001b[0m\u001b[0mOpError\u001b[0m \u001b[0;32mas\u001b[0m \u001b[0me\u001b[0m\u001b[0;34m:\u001b[0m\u001b[0;34m\u001b[0m\u001b[0m\n\u001b[1;32m   1023\u001b[0m       \u001b[0mmessage\u001b[0m \u001b[0;34m=\u001b[0m \u001b[0mcompat\u001b[0m\u001b[0;34m.\u001b[0m\u001b[0mas_text\u001b[0m\u001b[0;34m(\u001b[0m\u001b[0me\u001b[0m\u001b[0;34m.\u001b[0m\u001b[0mmessage\u001b[0m\u001b[0;34m)\u001b[0m\u001b[0;34m\u001b[0m\u001b[0m\n",
      "\u001b[0;32m/usr/local/lib/python3.5/site-packages/tensorflow/python/client/session.py\u001b[0m in \u001b[0;36m_run_fn\u001b[0;34m(session, feed_dict, fetch_list, target_list, options, run_metadata)\u001b[0m\n\u001b[1;32m   1001\u001b[0m         return tf_session.TF_Run(session, options,\n\u001b[1;32m   1002\u001b[0m                                  \u001b[0mfeed_dict\u001b[0m\u001b[0;34m,\u001b[0m \u001b[0mfetch_list\u001b[0m\u001b[0;34m,\u001b[0m \u001b[0mtarget_list\u001b[0m\u001b[0;34m,\u001b[0m\u001b[0;34m\u001b[0m\u001b[0m\n\u001b[0;32m-> 1003\u001b[0;31m                                  status, run_metadata)\n\u001b[0m\u001b[1;32m   1004\u001b[0m \u001b[0;34m\u001b[0m\u001b[0m\n\u001b[1;32m   1005\u001b[0m     \u001b[0;32mdef\u001b[0m \u001b[0m_prun_fn\u001b[0m\u001b[0;34m(\u001b[0m\u001b[0msession\u001b[0m\u001b[0;34m,\u001b[0m \u001b[0mhandle\u001b[0m\u001b[0;34m,\u001b[0m \u001b[0mfeed_dict\u001b[0m\u001b[0;34m,\u001b[0m \u001b[0mfetch_list\u001b[0m\u001b[0;34m)\u001b[0m\u001b[0;34m:\u001b[0m\u001b[0;34m\u001b[0m\u001b[0m\n",
      "\u001b[0;31mKeyboardInterrupt\u001b[0m: "
     ]
    }
   ],
   "source": [
    "\"\"\"\n",
    "DON'T MODIFY ANYTHING IN THIS CELL\n",
    "\"\"\"\n",
    "save_model_path = './image_classification'\n",
    "\n",
    "print('Training...')\n",
    "with tf.Session() as sess:\n",
    "    # Initializing the variables\n",
    "    sess.run(tf.global_variables_initializer())\n",
    "    \n",
    "    # Training cycle\n",
    "    for epoch in range(epochs):\n",
    "        # Loop over all batches\n",
    "        n_batches = 5\n",
    "        for batch_i in range(1, n_batches + 1):\n",
    "            for batch_features, batch_labels in helper.load_preprocess_training_batch(batch_i, batch_size):\n",
    "                train_neural_network(sess, optimizer, keep_probability, batch_features, batch_labels)\n",
    "            print('Epoch {:>2}, CIFAR-10 Batch {}:  '.format(epoch + 1, batch_i), end='')\n",
    "            print_stats(sess, batch_features, batch_labels, cost, accuracy)\n",
    "            \n",
    "    # Save Model\n",
    "    saver = tf.train.Saver()\n",
    "    save_path = saver.save(sess, save_model_path)"
   ]
  },
  {
   "cell_type": "markdown",
   "metadata": {
    "deletable": true,
    "editable": true
   },
   "source": [
    "# Checkpoint\n",
    "The model has been saved to disk.\n",
    "## Test Model\n",
    "Test your model against the test dataset.  This will be your final accuracy. You should have an accuracy greater than 50%. If you don't, keep tweaking the model architecture and parameters."
   ]
  },
  {
   "cell_type": "code",
   "execution_count": 59,
   "metadata": {
    "collapsed": false,
    "deletable": true,
    "editable": true
   },
   "outputs": [
    {
     "name": "stdout",
     "output_type": "stream",
     "text": [
      "Testing Accuracy: 0.6752373417721519\n",
      "\n"
     ]
    },
    {
     "data": {
      "image/png": "[encoded data removed]",
      "text/plain": [
       "<matplotlib.figure.Figure at 0x7f7e81fd2c50>"
      ]
     },
     "metadata": {
      "image/png": {
       "height": 319,
       "width": 355
      }
     },
     "output_type": "display_data"
    }
   ],
   "source": [
    "\"\"\"\n",
    "DON'T MODIFY ANYTHING IN THIS CELL\n",
    "\"\"\"\n",
    "%matplotlib inline\n",
    "%config InlineBackend.figure_format = 'retina'\n",
    "\n",
    "import tensorflow as tf\n",
    "import pickle\n",
    "import helper\n",
    "import random\n",
    "\n",
    "# Set batch size if not already set\n",
    "try:\n",
    "    if batch_size:\n",
    "        pass\n",
    "except NameError:\n",
    "    batch_size = 64\n",
    "\n",
    "save_model_path = './image_classification'\n",
    "n_samples = 4\n",
    "top_n_predictions = 3\n",
    "\n",
    "def test_model():\n",
    "    \"\"\"\n",
    "    Test the saved model against the test dataset\n",
    "    \"\"\"\n",
    "\n",
    "    test_features, test_labels = pickle.load(open('preprocess_training.p', mode='rb'))\n",
    "    loaded_graph = tf.Graph()\n",
    "\n",
    "    with tf.Session(graph=loaded_graph) as sess:\n",
    "        # Load model\n",
    "        loader = tf.train.import_meta_graph(save_model_path + '.meta')\n",
    "        loader.restore(sess, save_model_path)\n",
    "\n",
    "        # Get Tensors from loaded model\n",
    "        loaded_x = loaded_graph.get_tensor_by_name('x:0')\n",
    "        loaded_y = loaded_graph.get_tensor_by_name('y:0')\n",
    "        loaded_keep_prob = loaded_graph.get_tensor_by_name('keep_prob:0')\n",
    "        loaded_logits = loaded_graph.get_tensor_by_name('logits:0')\n",
    "        loaded_acc = loaded_graph.get_tensor_by_name('accuracy:0')\n",
    "        \n",
    "        # Get accuracy in batches for memory limitations\n",
    "        test_batch_acc_total = 0\n",
    "        test_batch_count = 0\n",
    "        \n",
    "        for train_feature_batch, train_label_batch in helper.batch_features_labels(test_features, test_labels, batch_size):\n",
    "            test_batch_acc_total += sess.run(\n",
    "                loaded_acc,\n",
    "                feed_dict={loaded_x: train_feature_batch, loaded_y: train_label_batch, loaded_keep_prob: 1.0})\n",
    "            test_batch_count += 1\n",
    "\n",
    "        print('Testing Accuracy: {}\\n'.format(test_batch_acc_total/test_batch_count))\n",
    "\n",
    "        # Print Random Samples\n",
    "        random_test_features, random_test_labels = tuple(zip(*random.sample(list(zip(test_features, test_labels)), n_samples)))\n",
    "        random_test_predictions = sess.run(\n",
    "            tf.nn.top_k(tf.nn.softmax(loaded_logits), top_n_predictions),\n",
    "            feed_dict={loaded_x: random_test_features, loaded_y: random_test_labels, loaded_keep_prob: 1.0})\n",
    "        helper.display_image_predictions(random_test_features, random_test_labels, random_test_predictions)\n",
    "\n",
    "\n",
    "test_model()"
   ]
  },
  {
   "cell_type": "markdown",
   "metadata": {
    "deletable": true,
    "editable": true
   },
   "source": [
    "## Why 50-80% Accuracy?\n",
    "You might be wondering why you can't get an accuracy any higher. First things first, 50% isn't bad for a simple CNN.  Pure guessing would get you 10% accuracy. That's because there are many more techniques that can be applied to your model and we recemmond that once you are done with this project, you explore!\n",
    "\n",
    "## Submitting This Project\n",
    "When submitting this project, make sure to run all the cells before saving the notebook.  Save the notebook file as \"image_classification.ipynb\" and save it as a HTML file under \"File\" -> \"Download as\".  Include the \"helper.py\" and \"problem_unittests.py\" files in your submission."
   ]
  }
 ],
 "metadata": {
  "kernelspec": {
   "display_name": "Python 3",
   "language": "python",
   "name": "python3"
  },
  "language_info": {
   "codemirror_mode": {
    "name": "ipython",
    "version": 3
   },
   "file_extension": ".py",
   "mimetype": "text/x-python",
   "name": "python",
   "nbconvert_exporter": "python",
   "pygments_lexer": "ipython3",
   "version": "3.5.1"
  }
 },
 "nbformat": 4,
 "nbformat_minor": 0
}
